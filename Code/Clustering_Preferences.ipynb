{
 "cells": [
  {
   "cell_type": "markdown",
   "metadata": {},
   "source": [
    "## Two Stage Cluster Analysis\n",
    "\n",
    "* The cluster analysis performed in two phases: 1) Ward Method, and 2) K-Means Method.\n",
    "* Data used in cluster analysis is the level of importance of each attribute of every individual. Ward method can interpret the optimal number of clusters of input data from the dendogram image formed .\n",
    "* The second stage is to implement  the K-means Method to determine the members of each cluster.\n",
    "\n",
    "* Hierarchical methods, like Ward’s minimum variance method, can determine the candidate number of clusters and starting point that non-hierarchical methods, like the K-means method, need, while non-hierarchical methods can provide better performance with the specified information.\n",
    "\n",
    "\n",
    "### Conjoint Analysis -Basic Idea\n",
    "* Humans evaluate the overall desirability of a complex product or service based on a function of the value of its separate parts (Orme, 2005).  \n",
    "\n"
   ]
  },
  {
   "cell_type": "code",
   "execution_count": 1,
   "metadata": {
    "collapsed": true
   },
   "outputs": [],
   "source": [
    "import numpy as np\n",
    "import pandas as pd\n",
    "from matplotlib import pyplot as plt\n",
    "import seaborn as sns\n",
    "sns.set(style=\"whitegrid\", color_codes=True)\n",
    "plt.style.use = 'default'\n",
    "\n",
    "%matplotlib inline"
   ]
  },
  {
   "cell_type": "code",
   "execution_count": 2,
   "metadata": {
    "collapsed": false
   },
   "outputs": [
    {
     "data": {
      "text/html": [
       "<div>\n",
       "<table border=\"1\" class=\"dataframe\">\n",
       "  <thead>\n",
       "    <tr style=\"text-align: right;\">\n",
       "      <th></th>\n",
       "      <th>Respondents / Attributes and Levels</th>\n",
       "      <th>European</th>\n",
       "      <th>Canadian</th>\n",
       "      <th>Japanese</th>\n",
       "      <th>6.19</th>\n",
       "      <th>5.49</th>\n",
       "      <th>4.79</th>\n",
       "      <th>Rich full bodied</th>\n",
       "      <th>Regular</th>\n",
       "      <th>Crisp and clear</th>\n",
       "      <th>...</th>\n",
       "      <th>Very mild</th>\n",
       "      <th>Full</th>\n",
       "      <th>Regular.1</th>\n",
       "      <th>Low</th>\n",
       "      <th>Six 12Oz Large</th>\n",
       "      <th>Six 12Oz Small</th>\n",
       "      <th>Four 16Oz</th>\n",
       "      <th>Green Label</th>\n",
       "      <th>Brown Label</th>\n",
       "      <th>Brown Painted</th>\n",
       "    </tr>\n",
       "  </thead>\n",
       "  <tbody>\n",
       "    <tr>\n",
       "      <th>0</th>\n",
       "      <td>6861</td>\n",
       "      <td>0</td>\n",
       "      <td>8</td>\n",
       "      <td>12</td>\n",
       "      <td>0</td>\n",
       "      <td>16</td>\n",
       "      <td>23</td>\n",
       "      <td>8</td>\n",
       "      <td>0</td>\n",
       "      <td>10</td>\n",
       "      <td>...</td>\n",
       "      <td>0</td>\n",
       "      <td>0</td>\n",
       "      <td>21</td>\n",
       "      <td>13</td>\n",
       "      <td>4</td>\n",
       "      <td>0</td>\n",
       "      <td>11</td>\n",
       "      <td>9</td>\n",
       "      <td>0</td>\n",
       "      <td>13</td>\n",
       "    </tr>\n",
       "    <tr>\n",
       "      <th>1</th>\n",
       "      <td>4129</td>\n",
       "      <td>1</td>\n",
       "      <td>4</td>\n",
       "      <td>0</td>\n",
       "      <td>8</td>\n",
       "      <td>0</td>\n",
       "      <td>51</td>\n",
       "      <td>8</td>\n",
       "      <td>0</td>\n",
       "      <td>4</td>\n",
       "      <td>...</td>\n",
       "      <td>2</td>\n",
       "      <td>2</td>\n",
       "      <td>6</td>\n",
       "      <td>0</td>\n",
       "      <td>0</td>\n",
       "      <td>12</td>\n",
       "      <td>10</td>\n",
       "      <td>13</td>\n",
       "      <td>5</td>\n",
       "      <td>0</td>\n",
       "    </tr>\n",
       "    <tr>\n",
       "      <th>2</th>\n",
       "      <td>4393</td>\n",
       "      <td>19</td>\n",
       "      <td>0</td>\n",
       "      <td>15</td>\n",
       "      <td>16</td>\n",
       "      <td>0</td>\n",
       "      <td>3</td>\n",
       "      <td>31</td>\n",
       "      <td>0</td>\n",
       "      <td>20</td>\n",
       "      <td>...</td>\n",
       "      <td>13</td>\n",
       "      <td>6</td>\n",
       "      <td>0</td>\n",
       "      <td>8</td>\n",
       "      <td>0</td>\n",
       "      <td>4</td>\n",
       "      <td>8</td>\n",
       "      <td>1</td>\n",
       "      <td>5</td>\n",
       "      <td>0</td>\n",
       "    </tr>\n",
       "    <tr>\n",
       "      <th>3</th>\n",
       "      <td>445</td>\n",
       "      <td>0</td>\n",
       "      <td>17</td>\n",
       "      <td>19</td>\n",
       "      <td>0</td>\n",
       "      <td>19</td>\n",
       "      <td>21</td>\n",
       "      <td>0</td>\n",
       "      <td>12</td>\n",
       "      <td>1</td>\n",
       "      <td>...</td>\n",
       "      <td>11</td>\n",
       "      <td>0</td>\n",
       "      <td>14</td>\n",
       "      <td>17</td>\n",
       "      <td>0</td>\n",
       "      <td>0</td>\n",
       "      <td>12</td>\n",
       "      <td>0</td>\n",
       "      <td>1</td>\n",
       "      <td>9</td>\n",
       "    </tr>\n",
       "    <tr>\n",
       "      <th>4</th>\n",
       "      <td>7393</td>\n",
       "      <td>20</td>\n",
       "      <td>0</td>\n",
       "      <td>4</td>\n",
       "      <td>9</td>\n",
       "      <td>3</td>\n",
       "      <td>0</td>\n",
       "      <td>0</td>\n",
       "      <td>0</td>\n",
       "      <td>11</td>\n",
       "      <td>...</td>\n",
       "      <td>6</td>\n",
       "      <td>9</td>\n",
       "      <td>0</td>\n",
       "      <td>23</td>\n",
       "      <td>17</td>\n",
       "      <td>0</td>\n",
       "      <td>8</td>\n",
       "      <td>0</td>\n",
       "      <td>6</td>\n",
       "      <td>3</td>\n",
       "    </tr>\n",
       "  </tbody>\n",
       "</table>\n",
       "<p>5 rows × 22 columns</p>\n",
       "</div>"
      ],
      "text/plain": [
       "   Respondents / Attributes and Levels  European  Canadian  Japanese  6.19  \\\n",
       "0                                 6861         0         8        12     0   \n",
       "1                                 4129         1         4         0     8   \n",
       "2                                 4393        19         0        15    16   \n",
       "3                                  445         0        17        19     0   \n",
       "4                                 7393        20         0         4     9   \n",
       "\n",
       "   5.49  4.79  Rich full bodied  Regular  Crisp and clear      ...        \\\n",
       "0    16    23                 8        0               10      ...         \n",
       "1     0    51                 8        0                4      ...         \n",
       "2     0     3                31        0               20      ...         \n",
       "3    19    21                 0       12                1      ...         \n",
       "4     3     0                 0        0               11      ...         \n",
       "\n",
       "   Very mild  Full  Regular.1  Low  Six 12Oz Large  Six 12Oz Small  Four 16Oz  \\\n",
       "0          0     0         21   13               4               0         11   \n",
       "1          2     2          6    0               0              12         10   \n",
       "2         13     6          0    8               0               4          8   \n",
       "3         11     0         14   17               0               0         12   \n",
       "4          6     9          0   23              17               0          8   \n",
       "\n",
       "   Green Label  Brown Label  Brown Painted  \n",
       "0            9            0             13  \n",
       "1           13            5              0  \n",
       "2            1            5              0  \n",
       "3            0            1              9  \n",
       "4            0            6              3  \n",
       "\n",
       "[5 rows x 22 columns]"
      ]
     },
     "execution_count": 2,
     "metadata": {},
     "output_type": "execute_result"
    }
   ],
   "source": [
    "pref_data = pd.read_csv('partworth.csv')\n",
    "pref_data.head()"
   ]
  },
  {
   "cell_type": "code",
   "execution_count": 3,
   "metadata": {
    "collapsed": false
   },
   "outputs": [
    {
     "data": {
      "text/plain": [
       "<matplotlib.axes._subplots.AxesSubplot at 0x7f96863220f0>"
      ]
     },
     "execution_count": 3,
     "metadata": {},
     "output_type": "execute_result"
    },
    {
     "data": {
      "image/png": "[encoded data removed]",
      "text/plain": [
       "<matplotlib.figure.Figure at 0x7f9695b0ba20>"
      ]
     },
     "metadata": {},
     "output_type": "display_data"
    },
    {
     "data": {
      "image/png": "[encoded data removed]",
      "text/plain": [
       "<matplotlib.figure.Figure at 0x7f968969cd68>"
      ]
     },
     "metadata": {},
     "output_type": "display_data"
    }
   ],
   "source": [
    "fig1, ax1 = plt.subplots()\n",
    "fig1.set_size_inches(17.7, 8.27)\n",
    "\n",
    "fig2, ax2 = plt.subplots()\n",
    "\n",
    "# the size of A4 paper\n",
    "fig2.set_size_inches(17.7, 8.27)\n",
    "\n",
    "sns.boxplot(data=pref_data.loc[:,'European':'Crisp and clear'],ax = ax1)\n",
    "\n",
    "sns.boxplot(data=pref_data.loc[:,'Strong':],ax = ax2)\n",
    "\n"
   ]
  },
  {
   "cell_type": "code",
   "execution_count": 4,
   "metadata": {
    "collapsed": false
   },
   "outputs": [
    {
     "data": {
      "image/png": "[encoded data removed]",
      "text/plain": [
       "<matplotlib.figure.Figure at 0x7f9685dd8128>"
      ]
     },
     "metadata": {},
     "output_type": "display_data"
    },
    {
     "data": {
      "image/png": "[encoded data removed]",
      "text/plain": [
       "<matplotlib.figure.Figure at 0x7f9685dd80f0>"
      ]
     },
     "metadata": {},
     "output_type": "display_data"
    }
   ],
   "source": [
    "fig3, ax3 = plt.subplots()\n",
    "fig3.set_size_inches(17.7, 8.27)\n",
    "\n",
    "fig4, ax4 = plt.subplots()\n",
    "fig4.set_size_inches(17.7, 8.27)\n",
    "\n",
    "sns.violinplot(data=pref_data.loc[:,'European':'Crisp and clear'],ax = ax3, inner=\"stick\", palette=\"Set3\");\n",
    "\n",
    "sns.violinplot(data=pref_data.loc[:,'Strong':],ax = ax4, inner=\"stick\", palette=\"Set3\");"
   ]
  },
  {
   "cell_type": "markdown",
   "metadata": {},
   "source": [
    "## Observation from the above Violin Plots :\n",
    "*"
   ]
  },
  {
   "cell_type": "code",
   "execution_count": 5,
   "metadata": {
    "collapsed": true
   },
   "outputs": [],
   "source": [
    "from scipy.cluster.hierarchy import dendrogram, linkage"
   ]
  },
  {
   "cell_type": "code",
   "execution_count": 6,
   "metadata": {
    "collapsed": true
   },
   "outputs": [],
   "source": [
    "data = pref_data.loc[:,'European':]"
   ]
  },
  {
   "cell_type": "code",
   "execution_count": 7,
   "metadata": {
    "collapsed": true
   },
   "outputs": [],
   "source": [
    "z = linkage(data, 'ward')"
   ]
  },
  {
   "cell_type": "code",
   "execution_count": 8,
   "metadata": {
    "collapsed": false
   },
   "outputs": [
    {
     "data": {
      "text/plain": [
       "numpy.ndarray"
      ]
     },
     "execution_count": 8,
     "metadata": {},
     "output_type": "execute_result"
    }
   ],
   "source": [
    "type(z)"
   ]
  },
  {
   "cell_type": "code",
   "execution_count": 9,
   "metadata": {
    "collapsed": false
   },
   "outputs": [
    {
     "data": {
      "text/plain": [
       "(316, 4)"
      ]
     },
     "execution_count": 9,
     "metadata": {},
     "output_type": "execute_result"
    }
   ],
   "source": [
    "z.shape\n"
   ]
  },
  {
   "cell_type": "code",
   "execution_count": 10,
   "metadata": {
    "collapsed": false
   },
   "outputs": [
    {
     "data": {
      "text/plain": [
       "0.4362374376408672"
      ]
     },
     "execution_count": 10,
     "metadata": {},
     "output_type": "execute_result"
    }
   ],
   "source": [
    "from scipy.cluster.hierarchy import cophenet\n",
    "from scipy.spatial.distance import pdist\n",
    "\n",
    "c, coph_dists = cophenet(z, pdist(data))\n",
    "c"
   ]
  },
  {
   "cell_type": "markdown",
   "metadata": {},
   "source": [
    "### Z[i] will tell us which clusters were merged in the i-th iteration, let's take a look at the first two points that were merged:"
   ]
  },
  {
   "cell_type": "code",
   "execution_count": 11,
   "metadata": {
    "collapsed": false
   },
   "outputs": [
    {
     "data": {
      "text/plain": [
       "array([  74.        ,  114.        ,    7.54983444,    2.        ])"
      ]
     },
     "execution_count": 11,
     "metadata": {},
     "output_type": "execute_result"
    }
   ],
   "source": [
    "z[0]\n",
    "\n",
    "#hence first row number 74 and 114 were clustered together"
   ]
  },
  {
   "cell_type": "code",
   "execution_count": 12,
   "metadata": {
    "collapsed": false
   },
   "outputs": [
    {
     "data": {
      "text/plain": [
       "array([[  74.        ,  114.        ,    7.54983444,    2.        ],\n",
       "       [   3.        ,  216.        ,    8.06225775,    2.        ],\n",
       "       [   4.        ,  208.        ,    8.66025404,    2.        ],\n",
       "       [ 159.        ,  163.        ,    9.21954446,    2.        ],\n",
       "       [ 295.        ,  307.        ,    9.64365076,    2.        ],\n",
       "       [ 259.        ,  269.        ,    9.69535971,    2.        ],\n",
       "       [ 152.        ,  219.        ,    9.74679434,    2.        ],\n",
       "       [  17.        ,  265.        ,    9.79795897,    2.        ],\n",
       "       [  83.        ,  166.        ,    9.94987437,    2.        ],\n",
       "       [  31.        ,  158.        ,   10.        ,    2.        ],\n",
       "       [ 167.        ,  317.        ,   10.2794293 ,    3.        ],\n",
       "       [  99.        ,  225.        ,   10.34408043,    2.        ],\n",
       "       [ 256.        ,  262.        ,   10.72380529,    2.        ],\n",
       "       [ 266.        ,  320.        ,   10.96965511,    3.        ],\n",
       "       [  79.        ,  180.        ,   11.13552873,    2.        ],\n",
       "       [ 200.        ,  253.        ,   11.53256259,    2.        ],\n",
       "       [ 183.        ,  315.        ,   12.28820573,    2.        ],\n",
       "       [ 193.        ,  322.        ,   12.88409873,    3.        ],\n",
       "       [ 124.        ,  171.        ,   12.92284798,    2.        ],\n",
       "       [ 175.        ,  220.        ,   13.        ,    2.        ]])"
      ]
     },
     "execution_count": 12,
     "metadata": {},
     "output_type": "execute_result"
    }
   ],
   "source": [
    "z[:20]"
   ]
  },
  {
   "cell_type": "markdown",
   "metadata": {},
   "source": [
    "### Till iteration 10, it simply merged two original samples. After that...\n",
    "\n",
    "*Note - in 10th iteration, 317 corresponds to cluster formed in z[0], hence merge iteration 11 merges 167 with to our sample 74 and 114 which were merged in 1st iteration.\n",
    "\n",
    "Lets look at the three "
   ]
  },
  {
   "cell_type": "code",
   "execution_count": 13,
   "metadata": {
    "collapsed": false
   },
   "outputs": [
    {
     "data": {
      "text/html": [
       "<div>\n",
       "<table border=\"1\" class=\"dataframe\">\n",
       "  <thead>\n",
       "    <tr style=\"text-align: right;\">\n",
       "      <th></th>\n",
       "      <th>European</th>\n",
       "      <th>Canadian</th>\n",
       "      <th>Japanese</th>\n",
       "      <th>6.19</th>\n",
       "      <th>5.49</th>\n",
       "      <th>4.79</th>\n",
       "      <th>Rich full bodied</th>\n",
       "      <th>Regular</th>\n",
       "      <th>Crisp and clear</th>\n",
       "      <th>Strong</th>\n",
       "      <th>...</th>\n",
       "      <th>Very mild</th>\n",
       "      <th>Full</th>\n",
       "      <th>Regular.1</th>\n",
       "      <th>Low</th>\n",
       "      <th>Six 12Oz Large</th>\n",
       "      <th>Six 12Oz Small</th>\n",
       "      <th>Four 16Oz</th>\n",
       "      <th>Green Label</th>\n",
       "      <th>Brown Label</th>\n",
       "      <th>Brown Painted</th>\n",
       "    </tr>\n",
       "  </thead>\n",
       "  <tbody>\n",
       "    <tr>\n",
       "      <th>74</th>\n",
       "      <td>15</td>\n",
       "      <td>0</td>\n",
       "      <td>16</td>\n",
       "      <td>0</td>\n",
       "      <td>7</td>\n",
       "      <td>14</td>\n",
       "      <td>4</td>\n",
       "      <td>0</td>\n",
       "      <td>9</td>\n",
       "      <td>0</td>\n",
       "      <td>...</td>\n",
       "      <td>7</td>\n",
       "      <td>22</td>\n",
       "      <td>4</td>\n",
       "      <td>0</td>\n",
       "      <td>13</td>\n",
       "      <td>0</td>\n",
       "      <td>6</td>\n",
       "      <td>3</td>\n",
       "      <td>0</td>\n",
       "      <td>2</td>\n",
       "    </tr>\n",
       "    <tr>\n",
       "      <th>114</th>\n",
       "      <td>14</td>\n",
       "      <td>0</td>\n",
       "      <td>14</td>\n",
       "      <td>0</td>\n",
       "      <td>6</td>\n",
       "      <td>12</td>\n",
       "      <td>4</td>\n",
       "      <td>0</td>\n",
       "      <td>11</td>\n",
       "      <td>0</td>\n",
       "      <td>...</td>\n",
       "      <td>11</td>\n",
       "      <td>19</td>\n",
       "      <td>2</td>\n",
       "      <td>0</td>\n",
       "      <td>15</td>\n",
       "      <td>0</td>\n",
       "      <td>5</td>\n",
       "      <td>3</td>\n",
       "      <td>0</td>\n",
       "      <td>2</td>\n",
       "    </tr>\n",
       "    <tr>\n",
       "      <th>167</th>\n",
       "      <td>14</td>\n",
       "      <td>0</td>\n",
       "      <td>11</td>\n",
       "      <td>0</td>\n",
       "      <td>10</td>\n",
       "      <td>11</td>\n",
       "      <td>5</td>\n",
       "      <td>0</td>\n",
       "      <td>10</td>\n",
       "      <td>0</td>\n",
       "      <td>...</td>\n",
       "      <td>14</td>\n",
       "      <td>24</td>\n",
       "      <td>1</td>\n",
       "      <td>0</td>\n",
       "      <td>14</td>\n",
       "      <td>0</td>\n",
       "      <td>4</td>\n",
       "      <td>2</td>\n",
       "      <td>0</td>\n",
       "      <td>3</td>\n",
       "    </tr>\n",
       "  </tbody>\n",
       "</table>\n",
       "<p>3 rows × 21 columns</p>\n",
       "</div>"
      ],
      "text/plain": [
       "     European  Canadian  Japanese  6.19  5.49  4.79  Rich full bodied  \\\n",
       "74         15         0        16     0     7    14                 4   \n",
       "114        14         0        14     0     6    12                 4   \n",
       "167        14         0        11     0    10    11                 5   \n",
       "\n",
       "     Regular  Crisp and clear  Strong      ...        Very mild  Full  \\\n",
       "74         0                9       0      ...                7    22   \n",
       "114        0               11       0      ...               11    19   \n",
       "167        0               10       0      ...               14    24   \n",
       "\n",
       "     Regular.1  Low  Six 12Oz Large  Six 12Oz Small  Four 16Oz  Green Label  \\\n",
       "74           4    0              13               0          6            3   \n",
       "114          2    0              15               0          5            3   \n",
       "167          1    0              14               0          4            2   \n",
       "\n",
       "     Brown Label  Brown Painted  \n",
       "74             0              2  \n",
       "114            0              2  \n",
       "167            0              3  \n",
       "\n",
       "[3 rows x 21 columns]"
      ]
     },
     "execution_count": 13,
     "metadata": {},
     "output_type": "execute_result"
    }
   ],
   "source": [
    "data.iloc[[74,114,167]]\n",
    "\n",
    "# Hence, it makes sense because all three seem very similar in terms of preferences"
   ]
  },
  {
   "cell_type": "code",
   "execution_count": 14,
   "metadata": {
    "collapsed": false
   },
   "outputs": [
    {
     "data": {
      "image/png": "[encoded data removed]",
      "text/plain": [
       "<matplotlib.figure.Figure at 0x7f96804b8b38>"
      ]
     },
     "metadata": {},
     "output_type": "display_data"
    }
   ],
   "source": [
    "# calculate full dendrogram\n",
    "plt.figure(figsize=(35, 10))\n",
    "plt.title('Hierarchical Clustering Dendrogram')\n",
    "plt.xlabel('Index')\n",
    "plt.ylabel('distance')\n",
    "dendrogram(\n",
    "    z,\n",
    "    leaf_rotation=90.,  # rotates the x axis labels\n",
    "    leaf_font_size=6.,  # font size for the x axis labels\n",
    ")\n",
    "\n",
    "\n",
    "plt.show()"
   ]
  },
  {
   "cell_type": "code",
   "execution_count": 15,
   "metadata": {
    "collapsed": false
   },
   "outputs": [
    {
     "data": {
      "text/plain": [
       "array([[ 582.        ,  592.        ,   67.49917695,   18.        ],\n",
       "       [ 553.        ,  595.        ,   69.08388621,    8.        ],\n",
       "       [ 585.        ,  591.        ,   71.2023876 ,   25.        ],\n",
       "       [ 417.        ,  554.        ,   71.30798392,   10.        ],\n",
       "       [ 568.        ,  578.        ,   71.80913811,   45.        ],\n",
       "       [ 561.        ,  579.        ,   72.92429212,    7.        ],\n",
       "       [ 534.        ,  572.        ,   72.9497544 ,    5.        ],\n",
       "       [ 586.        ,  598.        ,   76.01800981,   17.        ],\n",
       "       [ 597.        ,  599.        ,   77.81353938,   37.        ],\n",
       "       [ 608.        ,  609.        ,   77.84737816,   12.        ],\n",
       "       [ 529.        ,  594.        ,   81.0176657 ,   19.        ],\n",
       "       [ 575.        ,  600.        ,   81.36496761,   32.        ],\n",
       "       [ 601.        ,  604.        ,   81.90616144,   17.        ],\n",
       "       [ 576.        ,  593.        ,   82.84530224,   25.        ],\n",
       "       [ 588.        ,  602.        ,   86.68829035,   23.        ],\n",
       "       [ 607.        ,  611.        ,   90.46470893,   82.        ],\n",
       "       [ 606.        ,  610.        ,   93.77000324,   27.        ],\n",
       "       [ 589.        ,  612.        ,   95.31295202,   17.        ],\n",
       "       [ 590.        ,  616.        ,  101.05174038,   37.        ],\n",
       "       [ 613.        ,  617.        ,  101.52200527,   42.        ],\n",
       "       [ 615.        ,  620.        ,  112.63005554,   34.        ],\n",
       "       [ 603.        ,  618.        ,  114.75172304,  100.        ],\n",
       "       [ 566.        ,  622.        ,  124.55281152,   50.        ],\n",
       "       [ 596.        ,  623.        ,  141.86865045,   46.        ],\n",
       "       [ 605.        ,  619.        ,  152.22503042,   52.        ],\n",
       "       [ 625.        ,  626.        ,  154.84696442,   96.        ],\n",
       "       [ 614.        ,  621.        ,  183.63646647,   69.        ],\n",
       "       [ 627.        ,  629.        ,  209.43322047,  121.        ],\n",
       "       [ 628.        ,  630.        ,  240.1968561 ,  217.        ],\n",
       "       [ 624.        ,  631.        ,  306.65675397,  317.        ]])"
      ]
     },
     "execution_count": 15,
     "metadata": {},
     "output_type": "execute_result"
    }
   ],
   "source": [
    "z[-30:]\n",
    "\n",
    "#LARGE distance jumps / gaps in the dendrogram are pretty interesting for us. \n",
    "#They indicate that something is merged here, that maybe just shouldn't be merged. \n",
    "#In other words: maybe the things that were merged here really don't belong to the same cluster, \n",
    "#telling us that maybe there's just 2 clusters here."
   ]
  },
  {
   "cell_type": "code",
   "execution_count": 16,
   "metadata": {
    "collapsed": true
   },
   "outputs": [],
   "source": [
    "## THe change from 124 to 141 is a jump big enough to be considered.\n",
    "# Or we can also truncate the tree on the jump of 154 to 183 (if we want less specific clusters) "
   ]
  },
  {
   "cell_type": "code",
   "execution_count": 17,
   "metadata": {
    "collapsed": false
   },
   "outputs": [
    {
     "data": {
      "image/png": "[encoded data removed]",
      "text/plain": [
       "<matplotlib.figure.Figure at 0x7f96805d1e80>"
      ]
     },
     "metadata": {},
     "output_type": "display_data"
    }
   ],
   "source": [
    "plt.title('Hierarchical Clustering Dendrogram (truncated)')\n",
    "plt.xlabel('sample index')\n",
    "plt.ylabel('distance')\n",
    "dendrogram(\n",
    "    z,\n",
    "    truncate_mode='lastp',  # show only the last p merged clusters\n",
    "    p=5,  # show only the last p merged clusters\n",
    "    show_leaf_counts=True,  # otherwise numbers in brackets are counts\n",
    "    leaf_rotation=90.,\n",
    "    leaf_font_size=12.,\n",
    "    show_contracted=True,  # to get a distribution impression in truncated branches\n",
    "      # plot a horizontal cut-off line\n",
    ")\n",
    "plt.show()"
   ]
  },
  {
   "cell_type": "code",
   "execution_count": 18,
   "metadata": {
    "collapsed": false
   },
   "outputs": [],
   "source": [
    "## REtrieving the clusters\n",
    "from scipy.cluster.hierarchy import fcluster\n",
    "\n",
    "k=5\n",
    "cluster_number = fcluster(z, k, criterion='maxclust')"
   ]
  },
  {
   "cell_type": "code",
   "execution_count": 19,
   "metadata": {
    "collapsed": false
   },
   "outputs": [
    {
     "data": {
      "text/plain": [
       "(numpy.ndarray, (317,))"
      ]
     },
     "execution_count": 19,
     "metadata": {},
     "output_type": "execute_result"
    }
   ],
   "source": [
    "type(cluster_number) , cluster_number.shape"
   ]
  },
  {
   "cell_type": "code",
   "execution_count": 20,
   "metadata": {
    "collapsed": false
   },
   "outputs": [
    {
     "data": {
      "text/plain": [
       "array([2, 2, 3, 2, 4, 2, 4, 1, 2, 4, 1, 1, 2, 3, 4, 4, 2, 5, 3, 5, 3, 1, 1,\n",
       "       5, 4, 2, 3, 2, 3, 5, 2, 5, 2, 2, 5, 5, 2, 1, 3, 3, 2, 4, 2, 1, 3, 5,\n",
       "       2, 1, 2, 3, 5, 2, 2, 1, 5, 2, 2, 2, 1, 2, 5, 2, 1, 5, 3, 2, 3, 3, 1,\n",
       "       1, 2, 2, 5, 5, 1, 2, 2, 4, 2, 1, 2, 1, 4, 2, 1, 1, 4, 2, 1, 3, 5, 1,\n",
       "       2, 1, 5, 5, 2, 2, 5, 1, 2, 2, 1, 3, 3, 3, 1, 1, 4, 4, 2, 3, 2, 2, 1,\n",
       "       2, 1, 2, 3, 4, 3, 1, 5, 3, 1, 1, 4, 1, 5, 1, 1, 2, 1, 3, 3, 2, 2, 3,\n",
       "       1, 1, 2, 2, 2, 1, 3, 4, 2, 1, 2, 1, 2, 3, 1, 2, 5, 3, 1, 3, 5, 1, 3,\n",
       "       1, 3, 1, 1, 4, 2, 1, 1, 1, 3, 1, 5, 2, 1, 1, 1, 5, 1, 2, 1, 4, 3, 5,\n",
       "       5, 1, 1, 5, 4, 2, 3, 2, 4, 5, 1, 3, 2, 2, 2, 5, 1, 2, 2, 2, 3, 4, 1,\n",
       "       1, 4, 1, 2, 2, 2, 2, 4, 2, 2, 2, 2, 1, 1, 2, 5, 2, 2, 1, 3, 3, 4, 4,\n",
       "       2, 2, 1, 2, 1, 3, 2, 1, 3, 1, 1, 2, 1, 2, 4, 1, 2, 1, 2, 2, 1, 1, 2,\n",
       "       1, 1, 3, 1, 3, 2, 5, 1, 1, 1, 4, 5, 5, 1, 3, 1, 5, 1, 2, 2, 3, 2, 1,\n",
       "       5, 4, 1, 3, 3, 4, 1, 1, 1, 1, 1, 1, 4, 4, 2, 3, 3, 1, 1, 1, 2, 3, 3,\n",
       "       4, 1, 1, 1, 1, 2, 2, 3, 1, 3, 5, 3, 4, 1, 2, 2, 5, 2], dtype=int32)"
      ]
     },
     "execution_count": 20,
     "metadata": {},
     "output_type": "execute_result"
    }
   ],
   "source": [
    "cluster_number"
   ]
  },
  {
   "cell_type": "markdown",
   "metadata": {},
   "source": [
    "## Lets look at the samples in different clusters and check whether they make sense or not."
   ]
  },
  {
   "cell_type": "code",
   "execution_count": 21,
   "metadata": {
    "collapsed": true
   },
   "outputs": [],
   "source": [
    "# Appending the column 'cluster_number' to existing dataframe\n",
    "\n",
    "data['cluster_number'] = pd.Series(cluster_number, index=data.index)"
   ]
  },
  {
   "cell_type": "code",
   "execution_count": 22,
   "metadata": {
    "collapsed": false
   },
   "outputs": [
    {
     "data": {
      "text/html": [
       "<div>\n",
       "<table border=\"1\" class=\"dataframe\">\n",
       "  <thead>\n",
       "    <tr style=\"text-align: right;\">\n",
       "      <th></th>\n",
       "      <th>European</th>\n",
       "      <th>Canadian</th>\n",
       "      <th>Japanese</th>\n",
       "      <th>6.19</th>\n",
       "      <th>5.49</th>\n",
       "      <th>4.79</th>\n",
       "      <th>Rich full bodied</th>\n",
       "      <th>Regular</th>\n",
       "      <th>Crisp and clear</th>\n",
       "      <th>Strong</th>\n",
       "      <th>...</th>\n",
       "      <th>Full</th>\n",
       "      <th>Regular.1</th>\n",
       "      <th>Low</th>\n",
       "      <th>Six 12Oz Large</th>\n",
       "      <th>Six 12Oz Small</th>\n",
       "      <th>Four 16Oz</th>\n",
       "      <th>Green Label</th>\n",
       "      <th>Brown Label</th>\n",
       "      <th>Brown Painted</th>\n",
       "      <th>cluster_number</th>\n",
       "    </tr>\n",
       "  </thead>\n",
       "  <tbody>\n",
       "    <tr>\n",
       "      <th>0</th>\n",
       "      <td>0</td>\n",
       "      <td>8</td>\n",
       "      <td>12</td>\n",
       "      <td>0</td>\n",
       "      <td>16</td>\n",
       "      <td>23</td>\n",
       "      <td>8</td>\n",
       "      <td>0</td>\n",
       "      <td>10</td>\n",
       "      <td>10</td>\n",
       "      <td>...</td>\n",
       "      <td>0</td>\n",
       "      <td>21</td>\n",
       "      <td>13</td>\n",
       "      <td>4</td>\n",
       "      <td>0</td>\n",
       "      <td>11</td>\n",
       "      <td>9</td>\n",
       "      <td>0</td>\n",
       "      <td>13</td>\n",
       "      <td>2</td>\n",
       "    </tr>\n",
       "    <tr>\n",
       "      <th>1</th>\n",
       "      <td>1</td>\n",
       "      <td>4</td>\n",
       "      <td>0</td>\n",
       "      <td>8</td>\n",
       "      <td>0</td>\n",
       "      <td>51</td>\n",
       "      <td>8</td>\n",
       "      <td>0</td>\n",
       "      <td>4</td>\n",
       "      <td>6</td>\n",
       "      <td>...</td>\n",
       "      <td>2</td>\n",
       "      <td>6</td>\n",
       "      <td>0</td>\n",
       "      <td>0</td>\n",
       "      <td>12</td>\n",
       "      <td>10</td>\n",
       "      <td>13</td>\n",
       "      <td>5</td>\n",
       "      <td>0</td>\n",
       "      <td>2</td>\n",
       "    </tr>\n",
       "    <tr>\n",
       "      <th>2</th>\n",
       "      <td>19</td>\n",
       "      <td>0</td>\n",
       "      <td>15</td>\n",
       "      <td>16</td>\n",
       "      <td>0</td>\n",
       "      <td>3</td>\n",
       "      <td>31</td>\n",
       "      <td>0</td>\n",
       "      <td>20</td>\n",
       "      <td>0</td>\n",
       "      <td>...</td>\n",
       "      <td>6</td>\n",
       "      <td>0</td>\n",
       "      <td>8</td>\n",
       "      <td>0</td>\n",
       "      <td>4</td>\n",
       "      <td>8</td>\n",
       "      <td>1</td>\n",
       "      <td>5</td>\n",
       "      <td>0</td>\n",
       "      <td>3</td>\n",
       "    </tr>\n",
       "    <tr>\n",
       "      <th>3</th>\n",
       "      <td>0</td>\n",
       "      <td>17</td>\n",
       "      <td>19</td>\n",
       "      <td>0</td>\n",
       "      <td>19</td>\n",
       "      <td>21</td>\n",
       "      <td>0</td>\n",
       "      <td>12</td>\n",
       "      <td>1</td>\n",
       "      <td>0</td>\n",
       "      <td>...</td>\n",
       "      <td>0</td>\n",
       "      <td>14</td>\n",
       "      <td>17</td>\n",
       "      <td>0</td>\n",
       "      <td>0</td>\n",
       "      <td>12</td>\n",
       "      <td>0</td>\n",
       "      <td>1</td>\n",
       "      <td>9</td>\n",
       "      <td>2</td>\n",
       "    </tr>\n",
       "    <tr>\n",
       "      <th>4</th>\n",
       "      <td>20</td>\n",
       "      <td>0</td>\n",
       "      <td>4</td>\n",
       "      <td>9</td>\n",
       "      <td>3</td>\n",
       "      <td>0</td>\n",
       "      <td>0</td>\n",
       "      <td>0</td>\n",
       "      <td>11</td>\n",
       "      <td>0</td>\n",
       "      <td>...</td>\n",
       "      <td>9</td>\n",
       "      <td>0</td>\n",
       "      <td>23</td>\n",
       "      <td>17</td>\n",
       "      <td>0</td>\n",
       "      <td>8</td>\n",
       "      <td>0</td>\n",
       "      <td>6</td>\n",
       "      <td>3</td>\n",
       "      <td>4</td>\n",
       "    </tr>\n",
       "  </tbody>\n",
       "</table>\n",
       "<p>5 rows × 22 columns</p>\n",
       "</div>"
      ],
      "text/plain": [
       "   European  Canadian  Japanese  6.19  5.49  4.79  Rich full bodied  Regular  \\\n",
       "0         0         8        12     0    16    23                 8        0   \n",
       "1         1         4         0     8     0    51                 8        0   \n",
       "2        19         0        15    16     0     3                31        0   \n",
       "3         0        17        19     0    19    21                 0       12   \n",
       "4        20         0         4     9     3     0                 0        0   \n",
       "\n",
       "   Crisp and clear  Strong       ...        Full  Regular.1  Low  \\\n",
       "0               10      10       ...           0         21   13   \n",
       "1                4       6       ...           2          6    0   \n",
       "2               20       0       ...           6          0    8   \n",
       "3                1       0       ...           0         14   17   \n",
       "4               11       0       ...           9          0   23   \n",
       "\n",
       "   Six 12Oz Large  Six 12Oz Small  Four 16Oz  Green Label  Brown Label  \\\n",
       "0               4               0         11            9            0   \n",
       "1               0              12         10           13            5   \n",
       "2               0               4          8            1            5   \n",
       "3               0               0         12            0            1   \n",
       "4              17               0          8            0            6   \n",
       "\n",
       "   Brown Painted  cluster_number  \n",
       "0             13               2  \n",
       "1              0               2  \n",
       "2              0               3  \n",
       "3              9               2  \n",
       "4              3               4  \n",
       "\n",
       "[5 rows x 22 columns]"
      ]
     },
     "execution_count": 22,
     "metadata": {},
     "output_type": "execute_result"
    }
   ],
   "source": [
    "data.head()"
   ]
  },
  {
   "cell_type": "code",
   "execution_count": 23,
   "metadata": {
    "collapsed": false
   },
   "outputs": [
    {
     "data": {
      "text/html": [
       "<div>\n",
       "<table border=\"1\" class=\"dataframe\">\n",
       "  <thead>\n",
       "    <tr style=\"text-align: right;\">\n",
       "      <th></th>\n",
       "      <th>European</th>\n",
       "      <th>Canadian</th>\n",
       "      <th>Japanese</th>\n",
       "      <th>6.19</th>\n",
       "      <th>5.49</th>\n",
       "      <th>4.79</th>\n",
       "      <th>Rich full bodied</th>\n",
       "      <th>Regular</th>\n",
       "      <th>Crisp and clear</th>\n",
       "      <th>Strong</th>\n",
       "      <th>...</th>\n",
       "      <th>Full</th>\n",
       "      <th>Regular.1</th>\n",
       "      <th>Low</th>\n",
       "      <th>Six 12Oz Large</th>\n",
       "      <th>Six 12Oz Small</th>\n",
       "      <th>Four 16Oz</th>\n",
       "      <th>Green Label</th>\n",
       "      <th>Brown Label</th>\n",
       "      <th>Brown Painted</th>\n",
       "      <th>cluster_number</th>\n",
       "    </tr>\n",
       "  </thead>\n",
       "  <tbody>\n",
       "    <tr>\n",
       "      <th>7</th>\n",
       "      <td>18</td>\n",
       "      <td>1</td>\n",
       "      <td>0</td>\n",
       "      <td>2</td>\n",
       "      <td>3</td>\n",
       "      <td>0</td>\n",
       "      <td>7</td>\n",
       "      <td>0</td>\n",
       "      <td>13</td>\n",
       "      <td>0</td>\n",
       "      <td>...</td>\n",
       "      <td>26</td>\n",
       "      <td>7</td>\n",
       "      <td>0</td>\n",
       "      <td>19</td>\n",
       "      <td>0</td>\n",
       "      <td>1</td>\n",
       "      <td>0</td>\n",
       "      <td>1</td>\n",
       "      <td>9</td>\n",
       "      <td>1</td>\n",
       "    </tr>\n",
       "    <tr>\n",
       "      <th>10</th>\n",
       "      <td>21</td>\n",
       "      <td>0</td>\n",
       "      <td>17</td>\n",
       "      <td>0</td>\n",
       "      <td>4</td>\n",
       "      <td>4</td>\n",
       "      <td>4</td>\n",
       "      <td>2</td>\n",
       "      <td>0</td>\n",
       "      <td>0</td>\n",
       "      <td>...</td>\n",
       "      <td>31</td>\n",
       "      <td>10</td>\n",
       "      <td>0</td>\n",
       "      <td>15</td>\n",
       "      <td>8</td>\n",
       "      <td>0</td>\n",
       "      <td>4</td>\n",
       "      <td>9</td>\n",
       "      <td>0</td>\n",
       "      <td>1</td>\n",
       "    </tr>\n",
       "    <tr>\n",
       "      <th>11</th>\n",
       "      <td>6</td>\n",
       "      <td>0</td>\n",
       "      <td>8</td>\n",
       "      <td>1</td>\n",
       "      <td>0</td>\n",
       "      <td>10</td>\n",
       "      <td>0</td>\n",
       "      <td>3</td>\n",
       "      <td>1</td>\n",
       "      <td>0</td>\n",
       "      <td>...</td>\n",
       "      <td>26</td>\n",
       "      <td>3</td>\n",
       "      <td>0</td>\n",
       "      <td>18</td>\n",
       "      <td>1</td>\n",
       "      <td>0</td>\n",
       "      <td>15</td>\n",
       "      <td>2</td>\n",
       "      <td>0</td>\n",
       "      <td>1</td>\n",
       "    </tr>\n",
       "    <tr>\n",
       "      <th>21</th>\n",
       "      <td>20</td>\n",
       "      <td>0</td>\n",
       "      <td>16</td>\n",
       "      <td>0</td>\n",
       "      <td>9</td>\n",
       "      <td>5</td>\n",
       "      <td>12</td>\n",
       "      <td>0</td>\n",
       "      <td>3</td>\n",
       "      <td>0</td>\n",
       "      <td>...</td>\n",
       "      <td>30</td>\n",
       "      <td>2</td>\n",
       "      <td>0</td>\n",
       "      <td>9</td>\n",
       "      <td>0</td>\n",
       "      <td>7</td>\n",
       "      <td>2</td>\n",
       "      <td>0</td>\n",
       "      <td>1</td>\n",
       "      <td>1</td>\n",
       "    </tr>\n",
       "    <tr>\n",
       "      <th>22</th>\n",
       "      <td>20</td>\n",
       "      <td>12</td>\n",
       "      <td>0</td>\n",
       "      <td>15</td>\n",
       "      <td>10</td>\n",
       "      <td>0</td>\n",
       "      <td>3</td>\n",
       "      <td>0</td>\n",
       "      <td>5</td>\n",
       "      <td>0</td>\n",
       "      <td>...</td>\n",
       "      <td>4</td>\n",
       "      <td>10</td>\n",
       "      <td>0</td>\n",
       "      <td>11</td>\n",
       "      <td>3</td>\n",
       "      <td>0</td>\n",
       "      <td>4</td>\n",
       "      <td>0</td>\n",
       "      <td>6</td>\n",
       "      <td>1</td>\n",
       "    </tr>\n",
       "  </tbody>\n",
       "</table>\n",
       "<p>5 rows × 22 columns</p>\n",
       "</div>"
      ],
      "text/plain": [
       "    European  Canadian  Japanese  6.19  5.49  4.79  Rich full bodied  Regular  \\\n",
       "7         18         1         0     2     3     0                 7        0   \n",
       "10        21         0        17     0     4     4                 4        2   \n",
       "11         6         0         8     1     0    10                 0        3   \n",
       "21        20         0        16     0     9     5                12        0   \n",
       "22        20        12         0    15    10     0                 3        0   \n",
       "\n",
       "    Crisp and clear  Strong       ...        Full  Regular.1  Low  \\\n",
       "7                13       0       ...          26          7    0   \n",
       "10                0       0       ...          31         10    0   \n",
       "11                1       0       ...          26          3    0   \n",
       "21                3       0       ...          30          2    0   \n",
       "22                5       0       ...           4         10    0   \n",
       "\n",
       "    Six 12Oz Large  Six 12Oz Small  Four 16Oz  Green Label  Brown Label  \\\n",
       "7               19               0          1            0            1   \n",
       "10              15               8          0            4            9   \n",
       "11              18               1          0           15            2   \n",
       "21               9               0          7            2            0   \n",
       "22              11               3          0            4            0   \n",
       "\n",
       "    Brown Painted  cluster_number  \n",
       "7               9               1  \n",
       "10              0               1  \n",
       "11              0               1  \n",
       "21              1               1  \n",
       "22              6               1  \n",
       "\n",
       "[5 rows x 22 columns]"
      ]
     },
     "execution_count": 23,
     "metadata": {},
     "output_type": "execute_result"
    }
   ],
   "source": [
    "## GRoupby cluster number\n",
    "\n",
    "grouped = data.groupby('cluster_number')\n",
    "grouped.get_group(1).head()"
   ]
  },
  {
   "cell_type": "code",
   "execution_count": 24,
   "metadata": {
    "collapsed": false
   },
   "outputs": [
    {
     "data": {
      "text/html": [
       "<div>\n",
       "<table border=\"1\" class=\"dataframe\">\n",
       "  <thead>\n",
       "    <tr style=\"text-align: right;\">\n",
       "      <th></th>\n",
       "      <th>European</th>\n",
       "      <th>Canadian</th>\n",
       "      <th>Japanese</th>\n",
       "      <th>6.19</th>\n",
       "      <th>5.49</th>\n",
       "      <th>4.79</th>\n",
       "      <th>Rich full bodied</th>\n",
       "      <th>Regular</th>\n",
       "      <th>Crisp and clear</th>\n",
       "      <th>Strong</th>\n",
       "      <th>...</th>\n",
       "      <th>Full</th>\n",
       "      <th>Regular.1</th>\n",
       "      <th>Low</th>\n",
       "      <th>Six 12Oz Large</th>\n",
       "      <th>Six 12Oz Small</th>\n",
       "      <th>Four 16Oz</th>\n",
       "      <th>Green Label</th>\n",
       "      <th>Brown Label</th>\n",
       "      <th>Brown Painted</th>\n",
       "      <th>cluster_number</th>\n",
       "    </tr>\n",
       "  </thead>\n",
       "  <tbody>\n",
       "    <tr>\n",
       "      <th>4</th>\n",
       "      <td>20</td>\n",
       "      <td>0</td>\n",
       "      <td>4</td>\n",
       "      <td>9</td>\n",
       "      <td>3</td>\n",
       "      <td>0</td>\n",
       "      <td>0</td>\n",
       "      <td>0</td>\n",
       "      <td>11</td>\n",
       "      <td>0</td>\n",
       "      <td>...</td>\n",
       "      <td>9</td>\n",
       "      <td>0</td>\n",
       "      <td>23</td>\n",
       "      <td>17</td>\n",
       "      <td>0</td>\n",
       "      <td>8</td>\n",
       "      <td>0</td>\n",
       "      <td>6</td>\n",
       "      <td>3</td>\n",
       "      <td>4</td>\n",
       "    </tr>\n",
       "    <tr>\n",
       "      <th>6</th>\n",
       "      <td>1</td>\n",
       "      <td>5</td>\n",
       "      <td>0</td>\n",
       "      <td>0</td>\n",
       "      <td>3</td>\n",
       "      <td>4</td>\n",
       "      <td>9</td>\n",
       "      <td>0</td>\n",
       "      <td>24</td>\n",
       "      <td>0</td>\n",
       "      <td>...</td>\n",
       "      <td>0</td>\n",
       "      <td>11</td>\n",
       "      <td>35</td>\n",
       "      <td>15</td>\n",
       "      <td>0</td>\n",
       "      <td>15</td>\n",
       "      <td>0</td>\n",
       "      <td>1</td>\n",
       "      <td>8</td>\n",
       "      <td>4</td>\n",
       "    </tr>\n",
       "    <tr>\n",
       "      <th>9</th>\n",
       "      <td>17</td>\n",
       "      <td>5</td>\n",
       "      <td>0</td>\n",
       "      <td>9</td>\n",
       "      <td>3</td>\n",
       "      <td>0</td>\n",
       "      <td>17</td>\n",
       "      <td>0</td>\n",
       "      <td>13</td>\n",
       "      <td>0</td>\n",
       "      <td>...</td>\n",
       "      <td>1</td>\n",
       "      <td>0</td>\n",
       "      <td>25</td>\n",
       "      <td>13</td>\n",
       "      <td>0</td>\n",
       "      <td>11</td>\n",
       "      <td>0</td>\n",
       "      <td>5</td>\n",
       "      <td>5</td>\n",
       "      <td>4</td>\n",
       "    </tr>\n",
       "    <tr>\n",
       "      <th>14</th>\n",
       "      <td>15</td>\n",
       "      <td>6</td>\n",
       "      <td>0</td>\n",
       "      <td>0</td>\n",
       "      <td>3</td>\n",
       "      <td>1</td>\n",
       "      <td>19</td>\n",
       "      <td>0</td>\n",
       "      <td>16</td>\n",
       "      <td>0</td>\n",
       "      <td>...</td>\n",
       "      <td>0</td>\n",
       "      <td>6</td>\n",
       "      <td>24</td>\n",
       "      <td>18</td>\n",
       "      <td>1</td>\n",
       "      <td>0</td>\n",
       "      <td>0</td>\n",
       "      <td>11</td>\n",
       "      <td>8</td>\n",
       "      <td>4</td>\n",
       "    </tr>\n",
       "    <tr>\n",
       "      <th>15</th>\n",
       "      <td>13</td>\n",
       "      <td>5</td>\n",
       "      <td>0</td>\n",
       "      <td>12</td>\n",
       "      <td>13</td>\n",
       "      <td>0</td>\n",
       "      <td>0</td>\n",
       "      <td>1</td>\n",
       "      <td>4</td>\n",
       "      <td>0</td>\n",
       "      <td>...</td>\n",
       "      <td>2</td>\n",
       "      <td>0</td>\n",
       "      <td>30</td>\n",
       "      <td>22</td>\n",
       "      <td>0</td>\n",
       "      <td>16</td>\n",
       "      <td>0</td>\n",
       "      <td>5</td>\n",
       "      <td>5</td>\n",
       "      <td>4</td>\n",
       "    </tr>\n",
       "  </tbody>\n",
       "</table>\n",
       "<p>5 rows × 22 columns</p>\n",
       "</div>"
      ],
      "text/plain": [
       "    European  Canadian  Japanese  6.19  5.49  4.79  Rich full bodied  Regular  \\\n",
       "4         20         0         4     9     3     0                 0        0   \n",
       "6          1         5         0     0     3     4                 9        0   \n",
       "9         17         5         0     9     3     0                17        0   \n",
       "14        15         6         0     0     3     1                19        0   \n",
       "15        13         5         0    12    13     0                 0        1   \n",
       "\n",
       "    Crisp and clear  Strong       ...        Full  Regular.1  Low  \\\n",
       "4                11       0       ...           9          0   23   \n",
       "6                24       0       ...           0         11   35   \n",
       "9                13       0       ...           1          0   25   \n",
       "14               16       0       ...           0          6   24   \n",
       "15                4       0       ...           2          0   30   \n",
       "\n",
       "    Six 12Oz Large  Six 12Oz Small  Four 16Oz  Green Label  Brown Label  \\\n",
       "4               17               0          8            0            6   \n",
       "6               15               0         15            0            1   \n",
       "9               13               0         11            0            5   \n",
       "14              18               1          0            0           11   \n",
       "15              22               0         16            0            5   \n",
       "\n",
       "    Brown Painted  cluster_number  \n",
       "4               3               4  \n",
       "6               8               4  \n",
       "9               5               4  \n",
       "14              8               4  \n",
       "15              5               4  \n",
       "\n",
       "[5 rows x 22 columns]"
      ]
     },
     "execution_count": 24,
     "metadata": {},
     "output_type": "execute_result"
    }
   ],
   "source": [
    "grouped.get_group(4).head()"
   ]
  },
  {
   "cell_type": "markdown",
   "metadata": {
    "collapsed": true
   },
   "source": [
    "### Lets find out the cluster center as mean of each of the five clusters formed above in Heirarchial Clustering"
   ]
  },
  {
   "cell_type": "code",
   "execution_count": 25,
   "metadata": {
    "collapsed": true
   },
   "outputs": [],
   "source": [
    "def find_cluster_mean(cluster_number):\n",
    "    cluster_x_data = grouped.get_group(cluster_number)\n",
    "    cluster_x_mean = cluster_x_data.apply(np.sum, axis = 0)/len(cluster_x_data)\n",
    "    return cluster_x_mean\n",
    "    "
   ]
  },
  {
   "cell_type": "code",
   "execution_count": 26,
   "metadata": {
    "collapsed": false
   },
   "outputs": [],
   "source": [
    "cluster_means = pd.Series()\n",
    "for i in range(1,6):\n",
    "    cluster_x_mean = find_cluster_mean(i)\n",
    "    cluster_means['cluster_' + str(i)+'_mean'] = cluster_x_mean\n",
    "    "
   ]
  },
  {
   "cell_type": "code",
   "execution_count": 27,
   "metadata": {
    "collapsed": true
   },
   "outputs": [],
   "source": [
    "## cluster_means is a series with cluster__number_mean as index "
   ]
  },
  {
   "cell_type": "code",
   "execution_count": 28,
   "metadata": {
    "collapsed": false
   },
   "outputs": [
    {
     "data": {
      "text/plain": [
       "(pandas.core.series.Series, European            15.864865\n",
       " Canadian             0.729730\n",
       " Japanese            10.864865\n",
       " 6.19                 1.540541\n",
       " 5.49                 9.729730\n",
       " 4.79                 4.027027\n",
       " Rich full bodied     4.486486\n",
       " Regular              1.540541\n",
       " Crisp and clear      8.621622\n",
       " Strong               3.189189\n",
       " Mild                 8.918919\n",
       " Very mild            1.783784\n",
       " Full                 0.891892\n",
       " Regular.1           16.621622\n",
       " Low                 11.783784\n",
       " Six 12Oz Large      12.783784\n",
       " Six 12Oz Small       1.837838\n",
       " Four 16Oz            3.081081\n",
       " Green Label          0.000000\n",
       " Brown Label         14.513514\n",
       " Brown Painted       19.378378\n",
       " cluster_number       5.000000\n",
       " dtype: float64)"
      ]
     },
     "execution_count": 28,
     "metadata": {},
     "output_type": "execute_result"
    }
   ],
   "source": [
    "type(cluster_means['cluster_5_mean']), cluster_means['cluster_5_mean']"
   ]
  },
  {
   "cell_type": "code",
   "execution_count": 29,
   "metadata": {
    "collapsed": false
   },
   "outputs": [
    {
     "data": {
      "text/html": [
       "<div>\n",
       "<table border=\"1\" class=\"dataframe\">\n",
       "  <thead>\n",
       "    <tr style=\"text-align: right;\">\n",
       "      <th></th>\n",
       "      <th>1</th>\n",
       "      <th>2</th>\n",
       "      <th>3</th>\n",
       "      <th>4</th>\n",
       "      <th>5</th>\n",
       "    </tr>\n",
       "  </thead>\n",
       "  <tbody>\n",
       "    <tr>\n",
       "      <th>European</th>\n",
       "      <td>14.82</td>\n",
       "      <td>5.010417</td>\n",
       "      <td>14.961538</td>\n",
       "      <td>11.53125</td>\n",
       "      <td>15.864865</td>\n",
       "    </tr>\n",
       "    <tr>\n",
       "      <th>Canadian</th>\n",
       "      <td>0.98</td>\n",
       "      <td>12.895833</td>\n",
       "      <td>1.750000</td>\n",
       "      <td>3.06250</td>\n",
       "      <td>0.729730</td>\n",
       "    </tr>\n",
       "    <tr>\n",
       "      <th>Japanese</th>\n",
       "      <td>9.84</td>\n",
       "      <td>6.760417</td>\n",
       "      <td>12.423077</td>\n",
       "      <td>2.93750</td>\n",
       "      <td>10.864865</td>\n",
       "    </tr>\n",
       "    <tr>\n",
       "      <th>6.19</th>\n",
       "      <td>3.15</td>\n",
       "      <td>4.385417</td>\n",
       "      <td>6.711538</td>\n",
       "      <td>6.34375</td>\n",
       "      <td>1.540541</td>\n",
       "    </tr>\n",
       "    <tr>\n",
       "      <th>5.49</th>\n",
       "      <td>3.48</td>\n",
       "      <td>9.677083</td>\n",
       "      <td>3.788462</td>\n",
       "      <td>7.06250</td>\n",
       "      <td>9.729730</td>\n",
       "    </tr>\n",
       "    <tr>\n",
       "      <th>4.79</th>\n",
       "      <td>4.31</td>\n",
       "      <td>11.791667</td>\n",
       "      <td>3.461538</td>\n",
       "      <td>2.31250</td>\n",
       "      <td>4.027027</td>\n",
       "    </tr>\n",
       "    <tr>\n",
       "      <th>Rich full bodied</th>\n",
       "      <td>9.69</td>\n",
       "      <td>6.489583</td>\n",
       "      <td>27.307692</td>\n",
       "      <td>9.81250</td>\n",
       "      <td>4.486486</td>\n",
       "    </tr>\n",
       "    <tr>\n",
       "      <th>Regular</th>\n",
       "      <td>0.70</td>\n",
       "      <td>4.125000</td>\n",
       "      <td>0.519231</td>\n",
       "      <td>0.40625</td>\n",
       "      <td>1.540541</td>\n",
       "    </tr>\n",
       "    <tr>\n",
       "      <th>Crisp and clear</th>\n",
       "      <td>12.52</td>\n",
       "      <td>6.427083</td>\n",
       "      <td>7.903846</td>\n",
       "      <td>13.65625</td>\n",
       "      <td>8.621622</td>\n",
       "    </tr>\n",
       "    <tr>\n",
       "      <th>Strong</th>\n",
       "      <td>1.90</td>\n",
       "      <td>6.416667</td>\n",
       "      <td>3.730769</td>\n",
       "      <td>0.40625</td>\n",
       "      <td>3.189189</td>\n",
       "    </tr>\n",
       "    <tr>\n",
       "      <th>Mild</th>\n",
       "      <td>20.68</td>\n",
       "      <td>6.677083</td>\n",
       "      <td>9.846154</td>\n",
       "      <td>12.62500</td>\n",
       "      <td>8.918919</td>\n",
       "    </tr>\n",
       "    <tr>\n",
       "      <th>Very mild</th>\n",
       "      <td>6.54</td>\n",
       "      <td>6.416667</td>\n",
       "      <td>5.326923</td>\n",
       "      <td>7.84375</td>\n",
       "      <td>1.783784</td>\n",
       "    </tr>\n",
       "    <tr>\n",
       "      <th>Full</th>\n",
       "      <td>19.51</td>\n",
       "      <td>3.375000</td>\n",
       "      <td>4.788462</td>\n",
       "      <td>3.62500</td>\n",
       "      <td>0.891892</td>\n",
       "    </tr>\n",
       "    <tr>\n",
       "      <th>Regular.1</th>\n",
       "      <td>1.58</td>\n",
       "      <td>10.822917</td>\n",
       "      <td>3.980769</td>\n",
       "      <td>2.96875</td>\n",
       "      <td>16.621622</td>\n",
       "    </tr>\n",
       "    <tr>\n",
       "      <th>Low</th>\n",
       "      <td>6.23</td>\n",
       "      <td>10.166667</td>\n",
       "      <td>7.096154</td>\n",
       "      <td>25.75000</td>\n",
       "      <td>11.783784</td>\n",
       "    </tr>\n",
       "    <tr>\n",
       "      <th>Six 12Oz Large</th>\n",
       "      <td>13.04</td>\n",
       "      <td>6.697917</td>\n",
       "      <td>7.807692</td>\n",
       "      <td>14.96875</td>\n",
       "      <td>12.783784</td>\n",
       "    </tr>\n",
       "    <tr>\n",
       "      <th>Six 12Oz Small</th>\n",
       "      <td>0.71</td>\n",
       "      <td>5.354167</td>\n",
       "      <td>2.884615</td>\n",
       "      <td>0.21875</td>\n",
       "      <td>1.837838</td>\n",
       "    </tr>\n",
       "    <tr>\n",
       "      <th>Four 16Oz</th>\n",
       "      <td>5.64</td>\n",
       "      <td>9.979167</td>\n",
       "      <td>5.903846</td>\n",
       "      <td>7.71875</td>\n",
       "      <td>3.081081</td>\n",
       "    </tr>\n",
       "    <tr>\n",
       "      <th>Green Label</th>\n",
       "      <td>3.79</td>\n",
       "      <td>5.177083</td>\n",
       "      <td>2.365385</td>\n",
       "      <td>1.75000</td>\n",
       "      <td>0.000000</td>\n",
       "    </tr>\n",
       "    <tr>\n",
       "      <th>Brown Label</th>\n",
       "      <td>2.99</td>\n",
       "      <td>4.791667</td>\n",
       "      <td>6.269231</td>\n",
       "      <td>5.03125</td>\n",
       "      <td>14.513514</td>\n",
       "    </tr>\n",
       "    <tr>\n",
       "      <th>Brown Painted</th>\n",
       "      <td>3.56</td>\n",
       "      <td>8.562500</td>\n",
       "      <td>7.346154</td>\n",
       "      <td>3.93750</td>\n",
       "      <td>19.378378</td>\n",
       "    </tr>\n",
       "    <tr>\n",
       "      <th>cluster_number</th>\n",
       "      <td>1.00</td>\n",
       "      <td>2.000000</td>\n",
       "      <td>3.000000</td>\n",
       "      <td>4.00000</td>\n",
       "      <td>5.000000</td>\n",
       "    </tr>\n",
       "  </tbody>\n",
       "</table>\n",
       "</div>"
      ],
      "text/plain": [
       "                      1          2          3         4          5\n",
       "European          14.82   5.010417  14.961538  11.53125  15.864865\n",
       "Canadian           0.98  12.895833   1.750000   3.06250   0.729730\n",
       "Japanese           9.84   6.760417  12.423077   2.93750  10.864865\n",
       "6.19               3.15   4.385417   6.711538   6.34375   1.540541\n",
       "5.49               3.48   9.677083   3.788462   7.06250   9.729730\n",
       "4.79               4.31  11.791667   3.461538   2.31250   4.027027\n",
       "Rich full bodied   9.69   6.489583  27.307692   9.81250   4.486486\n",
       "Regular            0.70   4.125000   0.519231   0.40625   1.540541\n",
       "Crisp and clear   12.52   6.427083   7.903846  13.65625   8.621622\n",
       "Strong             1.90   6.416667   3.730769   0.40625   3.189189\n",
       "Mild              20.68   6.677083   9.846154  12.62500   8.918919\n",
       "Very mild          6.54   6.416667   5.326923   7.84375   1.783784\n",
       "Full              19.51   3.375000   4.788462   3.62500   0.891892\n",
       "Regular.1          1.58  10.822917   3.980769   2.96875  16.621622\n",
       "Low                6.23  10.166667   7.096154  25.75000  11.783784\n",
       "Six 12Oz Large    13.04   6.697917   7.807692  14.96875  12.783784\n",
       "Six 12Oz Small     0.71   5.354167   2.884615   0.21875   1.837838\n",
       "Four 16Oz          5.64   9.979167   5.903846   7.71875   3.081081\n",
       "Green Label        3.79   5.177083   2.365385   1.75000   0.000000\n",
       "Brown Label        2.99   4.791667   6.269231   5.03125  14.513514\n",
       "Brown Painted      3.56   8.562500   7.346154   3.93750  19.378378\n",
       "cluster_number     1.00   2.000000   3.000000   4.00000   5.000000"
      ]
     },
     "execution_count": 29,
     "metadata": {},
     "output_type": "execute_result"
    }
   ],
   "source": [
    "mean_df = pd.DataFrame({1:cluster_means['cluster_1_mean'],2:cluster_means['cluster_2_mean'],3:cluster_means['cluster_3_mean'],4:cluster_means['cluster_4_mean'],5:cluster_means['cluster_5_mean']})\n",
    "\n",
    "\n",
    "mean_df"
   ]
  },
  {
   "cell_type": "code",
   "execution_count": 30,
   "metadata": {
    "collapsed": false
   },
   "outputs": [],
   "source": [
    "#REarranging the column names so that levels of a particular attribute are together\n",
    "\n",
    "cols = ['European','Canadian','Japanese','6.19','5.49','4.79','Rich full bodied','Regular','Crisp and clear','Strong','Mild','Very mild','Full','Regular','Low','Six 12Oz Large','Six 12Oz Small','Four 16Oz','Green Label','Brown Label','Brown Painted',\n",
    "]\n",
    "mean_df = mean_df.T[cols]"
   ]
  },
  {
   "cell_type": "code",
   "execution_count": 31,
   "metadata": {
    "collapsed": false
   },
   "outputs": [
    {
     "data": {
      "text/html": [
       "<div>\n",
       "<table border=\"1\" class=\"dataframe\">\n",
       "  <thead>\n",
       "    <tr style=\"text-align: right;\">\n",
       "      <th></th>\n",
       "      <th>European</th>\n",
       "      <th>Canadian</th>\n",
       "      <th>Japanese</th>\n",
       "      <th>6.19</th>\n",
       "      <th>5.49</th>\n",
       "      <th>4.79</th>\n",
       "      <th>Rich full bodied</th>\n",
       "      <th>Regular</th>\n",
       "      <th>Crisp and clear</th>\n",
       "      <th>Strong</th>\n",
       "      <th>...</th>\n",
       "      <th>Very mild</th>\n",
       "      <th>Full</th>\n",
       "      <th>Regular</th>\n",
       "      <th>Low</th>\n",
       "      <th>Six 12Oz Large</th>\n",
       "      <th>Six 12Oz Small</th>\n",
       "      <th>Four 16Oz</th>\n",
       "      <th>Green Label</th>\n",
       "      <th>Brown Label</th>\n",
       "      <th>Brown Painted</th>\n",
       "    </tr>\n",
       "  </thead>\n",
       "  <tbody>\n",
       "    <tr>\n",
       "      <th>1</th>\n",
       "      <td>14.820000</td>\n",
       "      <td>0.980000</td>\n",
       "      <td>9.840000</td>\n",
       "      <td>3.150000</td>\n",
       "      <td>3.480000</td>\n",
       "      <td>4.310000</td>\n",
       "      <td>9.690000</td>\n",
       "      <td>0.700000</td>\n",
       "      <td>12.520000</td>\n",
       "      <td>1.900000</td>\n",
       "      <td>...</td>\n",
       "      <td>6.540000</td>\n",
       "      <td>19.510000</td>\n",
       "      <td>0.700000</td>\n",
       "      <td>6.230000</td>\n",
       "      <td>13.040000</td>\n",
       "      <td>0.710000</td>\n",
       "      <td>5.640000</td>\n",
       "      <td>3.790000</td>\n",
       "      <td>2.990000</td>\n",
       "      <td>3.560000</td>\n",
       "    </tr>\n",
       "    <tr>\n",
       "      <th>2</th>\n",
       "      <td>5.010417</td>\n",
       "      <td>12.895833</td>\n",
       "      <td>6.760417</td>\n",
       "      <td>4.385417</td>\n",
       "      <td>9.677083</td>\n",
       "      <td>11.791667</td>\n",
       "      <td>6.489583</td>\n",
       "      <td>4.125000</td>\n",
       "      <td>6.427083</td>\n",
       "      <td>6.416667</td>\n",
       "      <td>...</td>\n",
       "      <td>6.416667</td>\n",
       "      <td>3.375000</td>\n",
       "      <td>4.125000</td>\n",
       "      <td>10.166667</td>\n",
       "      <td>6.697917</td>\n",
       "      <td>5.354167</td>\n",
       "      <td>9.979167</td>\n",
       "      <td>5.177083</td>\n",
       "      <td>4.791667</td>\n",
       "      <td>8.562500</td>\n",
       "    </tr>\n",
       "    <tr>\n",
       "      <th>3</th>\n",
       "      <td>14.961538</td>\n",
       "      <td>1.750000</td>\n",
       "      <td>12.423077</td>\n",
       "      <td>6.711538</td>\n",
       "      <td>3.788462</td>\n",
       "      <td>3.461538</td>\n",
       "      <td>27.307692</td>\n",
       "      <td>0.519231</td>\n",
       "      <td>7.903846</td>\n",
       "      <td>3.730769</td>\n",
       "      <td>...</td>\n",
       "      <td>5.326923</td>\n",
       "      <td>4.788462</td>\n",
       "      <td>0.519231</td>\n",
       "      <td>7.096154</td>\n",
       "      <td>7.807692</td>\n",
       "      <td>2.884615</td>\n",
       "      <td>5.903846</td>\n",
       "      <td>2.365385</td>\n",
       "      <td>6.269231</td>\n",
       "      <td>7.346154</td>\n",
       "    </tr>\n",
       "    <tr>\n",
       "      <th>4</th>\n",
       "      <td>11.531250</td>\n",
       "      <td>3.062500</td>\n",
       "      <td>2.937500</td>\n",
       "      <td>6.343750</td>\n",
       "      <td>7.062500</td>\n",
       "      <td>2.312500</td>\n",
       "      <td>9.812500</td>\n",
       "      <td>0.406250</td>\n",
       "      <td>13.656250</td>\n",
       "      <td>0.406250</td>\n",
       "      <td>...</td>\n",
       "      <td>7.843750</td>\n",
       "      <td>3.625000</td>\n",
       "      <td>0.406250</td>\n",
       "      <td>25.750000</td>\n",
       "      <td>14.968750</td>\n",
       "      <td>0.218750</td>\n",
       "      <td>7.718750</td>\n",
       "      <td>1.750000</td>\n",
       "      <td>5.031250</td>\n",
       "      <td>3.937500</td>\n",
       "    </tr>\n",
       "    <tr>\n",
       "      <th>5</th>\n",
       "      <td>15.864865</td>\n",
       "      <td>0.729730</td>\n",
       "      <td>10.864865</td>\n",
       "      <td>1.540541</td>\n",
       "      <td>9.729730</td>\n",
       "      <td>4.027027</td>\n",
       "      <td>4.486486</td>\n",
       "      <td>1.540541</td>\n",
       "      <td>8.621622</td>\n",
       "      <td>3.189189</td>\n",
       "      <td>...</td>\n",
       "      <td>1.783784</td>\n",
       "      <td>0.891892</td>\n",
       "      <td>1.540541</td>\n",
       "      <td>11.783784</td>\n",
       "      <td>12.783784</td>\n",
       "      <td>1.837838</td>\n",
       "      <td>3.081081</td>\n",
       "      <td>0.000000</td>\n",
       "      <td>14.513514</td>\n",
       "      <td>19.378378</td>\n",
       "    </tr>\n",
       "  </tbody>\n",
       "</table>\n",
       "<p>5 rows × 21 columns</p>\n",
       "</div>"
      ],
      "text/plain": [
       "    European   Canadian   Japanese      6.19      5.49       4.79  \\\n",
       "1  14.820000   0.980000   9.840000  3.150000  3.480000   4.310000   \n",
       "2   5.010417  12.895833   6.760417  4.385417  9.677083  11.791667   \n",
       "3  14.961538   1.750000  12.423077  6.711538  3.788462   3.461538   \n",
       "4  11.531250   3.062500   2.937500  6.343750  7.062500   2.312500   \n",
       "5  15.864865   0.729730  10.864865  1.540541  9.729730   4.027027   \n",
       "\n",
       "   Rich full bodied   Regular  Crisp and clear    Strong      ...        \\\n",
       "1          9.690000  0.700000        12.520000  1.900000      ...         \n",
       "2          6.489583  4.125000         6.427083  6.416667      ...         \n",
       "3         27.307692  0.519231         7.903846  3.730769      ...         \n",
       "4          9.812500  0.406250        13.656250  0.406250      ...         \n",
       "5          4.486486  1.540541         8.621622  3.189189      ...         \n",
       "\n",
       "   Very mild       Full   Regular        Low  Six 12Oz Large  Six 12Oz Small  \\\n",
       "1   6.540000  19.510000  0.700000   6.230000       13.040000        0.710000   \n",
       "2   6.416667   3.375000  4.125000  10.166667        6.697917        5.354167   \n",
       "3   5.326923   4.788462  0.519231   7.096154        7.807692        2.884615   \n",
       "4   7.843750   3.625000  0.406250  25.750000       14.968750        0.218750   \n",
       "5   1.783784   0.891892  1.540541  11.783784       12.783784        1.837838   \n",
       "\n",
       "   Four 16Oz  Green Label  Brown Label  Brown Painted  \n",
       "1   5.640000     3.790000     2.990000       3.560000  \n",
       "2   9.979167     5.177083     4.791667       8.562500  \n",
       "3   5.903846     2.365385     6.269231       7.346154  \n",
       "4   7.718750     1.750000     5.031250       3.937500  \n",
       "5   3.081081     0.000000    14.513514      19.378378  \n",
       "\n",
       "[5 rows x 21 columns]"
      ]
     },
     "execution_count": 31,
     "metadata": {},
     "output_type": "execute_result"
    }
   ],
   "source": [
    "mean_df"
   ]
  },
  {
   "cell_type": "markdown",
   "metadata": {},
   "source": [
    "## Lets look at mean of all levels of attributes among different clusters"
   ]
  },
  {
   "cell_type": "code",
   "execution_count": 32,
   "metadata": {
    "collapsed": false
   },
   "outputs": [
    {
     "data": {
      "text/plain": [
       "<matplotlib.axes._subplots.AxesSubplot at 0x7f967e9b5748>"
      ]
     },
     "execution_count": 32,
     "metadata": {},
     "output_type": "execute_result"
    },
    {
     "data": {
      "image/png": "[encoded data removed]",
      "text/plain": [
       "<matplotlib.figure.Figure at 0x7f967e9b9828>"
      ]
     },
     "metadata": {},
     "output_type": "display_data"
    }
   ],
   "source": [
    "mean_df.T.plot(kind = 'bar',figsize = (20,10))"
   ]
  },
  {
   "cell_type": "markdown",
   "metadata": {},
   "source": [
    "## Applying K-means to get more accurate clusters \n",
    "* Now that we know number of clusters and where to initialize the cluster centeres approximately, we can now apply k-means clustering to get more meaningful clusters.\n"
   ]
  },
  {
   "cell_type": "code",
   "execution_count": 33,
   "metadata": {
    "collapsed": true
   },
   "outputs": [],
   "source": [
    "from sklearn.cluster import KMeans"
   ]
  },
  {
   "cell_type": "code",
   "execution_count": 34,
   "metadata": {
    "collapsed": false
   },
   "outputs": [
    {
     "data": {
      "text/plain": [
       "(5, 21)"
      ]
     },
     "execution_count": 34,
     "metadata": {},
     "output_type": "execute_result"
    }
   ],
   "source": [
    "cluster_centers = np.array(mean_df)\n",
    "cluster_centers.shape"
   ]
  },
  {
   "cell_type": "code",
   "execution_count": 35,
   "metadata": {
    "collapsed": false
   },
   "outputs": [],
   "source": [
    "# Number of clusters\n",
    "kmeans = KMeans(n_clusters=5, init = cluster_centers)\n"
   ]
  },
  {
   "cell_type": "code",
   "execution_count": 36,
   "metadata": {
    "collapsed": false
   },
   "outputs": [
    {
     "name": "stderr",
     "output_type": "stream",
     "text": [
      "/home/prateek-01/anaconda3/envs/ml/lib/python3.5/site-packages/sklearn/cluster/k_means_.py:889: RuntimeWarning: Explicit initial center position passed: performing only one init in k-means instead of n_init=10\n",
      "  return_n_iter=True)\n"
     ]
    }
   ],
   "source": [
    "# Fitting the input data\n",
    "\n",
    "pref_data = pref_data.loc[:,'European':]\n",
    "\n",
    "kmeans = kmeans.fit(pref_data)\n",
    "# Getting the cluster labels\n",
    "labels = kmeans.predict(pref_data)\n",
    "# Centroid values\n",
    "centroids = kmeans.cluster_centers_"
   ]
  },
  {
   "cell_type": "code",
   "execution_count": 37,
   "metadata": {
    "collapsed": false
   },
   "outputs": [
    {
     "name": "stdout",
     "output_type": "stream",
     "text": [
      "[2 2 3 2 4 5 4 1 2 4 1 1 2 3 4 4 2 5 4 5 4 1 1 5 4 2 5 2 3 5 2 5 2 2 5 5 2\n",
      " 1 3 5 2 4 2 4 3 5 2 1 2 5 5 2 4 1 5 4 2 2 1 2 5 5 1 5 1 2 3 3 1 1 2 2 5 5\n",
      " 1 2 2 1 2 1 2 1 4 2 1 1 4 2 1 3 5 1 2 1 5 5 2 4 5 1 3 2 1 3 3 3 1 1 4 4 4\n",
      " 3 2 2 1 2 5 4 3 4 3 1 5 1 1 4 1 1 5 1 1 2 1 2 3 2 2 3 1 1 4 5 5 1 3 4 2 1\n",
      " 2 1 2 3 1 5 5 5 1 3 5 1 3 1 5 1 1 4 2 1 2 2 3 1 5 5 1 1 1 5 1 3 1 4 2 5 5\n",
      " 1 1 5 4 2 3 5 4 5 1 3 2 2 2 5 1 2 2 3 3 4 1 1 4 1 2 2 1 2 4 5 2 5 2 1 1 5\n",
      " 5 2 2 1 3 3 4 4 2 2 1 2 1 3 3 1 3 1 1 2 1 2 4 1 2 1 2 2 1 1 4 1 1 3 1 3 1\n",
      " 5 1 1 1 4 5 5 1 3 1 5 3 2 2 3 2 1 5 4 1 3 3 4 1 1 1 1 1 1 4 4 2 5 2 1 1 1\n",
      " 2 3 5 4 1 1 1 4 2 2 3 1 1 5 3 4 4 2 4 5 1] <class 'numpy.ndarray'> (317,)\n"
     ]
    }
   ],
   "source": [
    "# Cluster labels from k-means\n",
    "labels = labels +1\n",
    "print(labels , type(labels), labels.shape)"
   ]
  },
  {
   "cell_type": "code",
   "execution_count": 38,
   "metadata": {
    "collapsed": false
   },
   "outputs": [
    {
     "data": {
      "text/plain": [
       "(array([2, 2, 3, 2, 4, 2, 4, 1, 2, 4, 1, 1, 2, 3, 4, 4, 2, 5, 3, 5, 3, 1, 1,\n",
       "        5, 4, 2, 3, 2, 3, 5, 2, 5, 2, 2, 5, 5, 2, 1, 3, 3, 2, 4, 2, 1, 3, 5,\n",
       "        2, 1, 2, 3, 5, 2, 2, 1, 5, 2, 2, 2, 1, 2, 5, 2, 1, 5, 3, 2, 3, 3, 1,\n",
       "        1, 2, 2, 5, 5, 1, 2, 2, 4, 2, 1, 2, 1, 4, 2, 1, 1, 4, 2, 1, 3, 5, 1,\n",
       "        2, 1, 5, 5, 2, 2, 5, 1, 2, 2, 1, 3, 3, 3, 1, 1, 4, 4, 2, 3, 2, 2, 1,\n",
       "        2, 1, 2, 3, 4, 3, 1, 5, 3, 1, 1, 4, 1, 5, 1, 1, 2, 1, 3, 3, 2, 2, 3,\n",
       "        1, 1, 2, 2, 2, 1, 3, 4, 2, 1, 2, 1, 2, 3, 1, 2, 5, 3, 1, 3, 5, 1, 3,\n",
       "        1, 3, 1, 1, 4, 2, 1, 1, 1, 3, 1, 5, 2, 1, 1, 1, 5, 1, 2, 1, 4, 3, 5,\n",
       "        5, 1, 1, 5, 4, 2, 3, 2, 4, 5, 1, 3, 2, 2, 2, 5, 1, 2, 2, 2, 3, 4, 1,\n",
       "        1, 4, 1, 2, 2, 2, 2, 4, 2, 2, 2, 2, 1, 1, 2, 5, 2, 2, 1, 3, 3, 4, 4,\n",
       "        2, 2, 1, 2, 1, 3, 2, 1, 3, 1, 1, 2, 1, 2, 4, 1, 2, 1, 2, 2, 1, 1, 2,\n",
       "        1, 1, 3, 1, 3, 2, 5, 1, 1, 1, 4, 5, 5, 1, 3, 1, 5, 1, 2, 2, 3, 2, 1,\n",
       "        5, 4, 1, 3, 3, 4, 1, 1, 1, 1, 1, 1, 4, 4, 2, 3, 3, 1, 1, 1, 2, 3, 3,\n",
       "        4, 1, 1, 1, 1, 2, 2, 3, 1, 3, 5, 3, 4, 1, 2, 2, 5, 2], dtype=int32),\n",
       " numpy.ndarray,\n",
       " (317,))"
      ]
     },
     "execution_count": 38,
     "metadata": {},
     "output_type": "execute_result"
    }
   ],
   "source": [
    "#Cluster labels from Heirarchial clustering performed earlier\n",
    "cluster_number, type(cluster_number), cluster_number.shape"
   ]
  },
  {
   "cell_type": "code",
   "execution_count": 39,
   "metadata": {
    "collapsed": false
   },
   "outputs": [
    {
     "data": {
      "text/plain": [
       "True     267\n",
       "False     50\n",
       "dtype: int64"
      ]
     },
     "execution_count": 39,
     "metadata": {},
     "output_type": "execute_result"
    }
   ],
   "source": [
    "#Lets see how many labels are different among the two\n",
    "\n",
    "similar = pd.Series(labels == cluster_number)\n",
    "similar.value_counts()\n",
    "\n",
    "# So cluster assignments of 50 respondents have changed."
   ]
  },
  {
   "cell_type": "code",
   "execution_count": 40,
   "metadata": {
    "collapsed": false
   },
   "outputs": [
    {
     "data": {
      "text/html": [
       "<div>\n",
       "<table border=\"1\" class=\"dataframe\">\n",
       "  <thead>\n",
       "    <tr style=\"text-align: right;\">\n",
       "      <th></th>\n",
       "      <th>European</th>\n",
       "      <th>Canadian</th>\n",
       "      <th>Japanese</th>\n",
       "      <th>6.19</th>\n",
       "      <th>5.49</th>\n",
       "      <th>4.79</th>\n",
       "      <th>Rich full bodied</th>\n",
       "      <th>Regular</th>\n",
       "      <th>Crisp and clear</th>\n",
       "      <th>Strong</th>\n",
       "      <th>...</th>\n",
       "      <th>Full</th>\n",
       "      <th>Regular.1</th>\n",
       "      <th>Low</th>\n",
       "      <th>Six 12Oz Large</th>\n",
       "      <th>Six 12Oz Small</th>\n",
       "      <th>Four 16Oz</th>\n",
       "      <th>Green Label</th>\n",
       "      <th>Brown Label</th>\n",
       "      <th>Brown Painted</th>\n",
       "      <th>cluster</th>\n",
       "    </tr>\n",
       "  </thead>\n",
       "  <tbody>\n",
       "    <tr>\n",
       "      <th>0</th>\n",
       "      <td>0</td>\n",
       "      <td>8</td>\n",
       "      <td>12</td>\n",
       "      <td>0</td>\n",
       "      <td>16</td>\n",
       "      <td>23</td>\n",
       "      <td>8</td>\n",
       "      <td>0</td>\n",
       "      <td>10</td>\n",
       "      <td>10</td>\n",
       "      <td>...</td>\n",
       "      <td>0</td>\n",
       "      <td>21</td>\n",
       "      <td>13</td>\n",
       "      <td>4</td>\n",
       "      <td>0</td>\n",
       "      <td>11</td>\n",
       "      <td>9</td>\n",
       "      <td>0</td>\n",
       "      <td>13</td>\n",
       "      <td>2</td>\n",
       "    </tr>\n",
       "    <tr>\n",
       "      <th>1</th>\n",
       "      <td>1</td>\n",
       "      <td>4</td>\n",
       "      <td>0</td>\n",
       "      <td>8</td>\n",
       "      <td>0</td>\n",
       "      <td>51</td>\n",
       "      <td>8</td>\n",
       "      <td>0</td>\n",
       "      <td>4</td>\n",
       "      <td>6</td>\n",
       "      <td>...</td>\n",
       "      <td>2</td>\n",
       "      <td>6</td>\n",
       "      <td>0</td>\n",
       "      <td>0</td>\n",
       "      <td>12</td>\n",
       "      <td>10</td>\n",
       "      <td>13</td>\n",
       "      <td>5</td>\n",
       "      <td>0</td>\n",
       "      <td>2</td>\n",
       "    </tr>\n",
       "    <tr>\n",
       "      <th>2</th>\n",
       "      <td>19</td>\n",
       "      <td>0</td>\n",
       "      <td>15</td>\n",
       "      <td>16</td>\n",
       "      <td>0</td>\n",
       "      <td>3</td>\n",
       "      <td>31</td>\n",
       "      <td>0</td>\n",
       "      <td>20</td>\n",
       "      <td>0</td>\n",
       "      <td>...</td>\n",
       "      <td>6</td>\n",
       "      <td>0</td>\n",
       "      <td>8</td>\n",
       "      <td>0</td>\n",
       "      <td>4</td>\n",
       "      <td>8</td>\n",
       "      <td>1</td>\n",
       "      <td>5</td>\n",
       "      <td>0</td>\n",
       "      <td>3</td>\n",
       "    </tr>\n",
       "    <tr>\n",
       "      <th>3</th>\n",
       "      <td>0</td>\n",
       "      <td>17</td>\n",
       "      <td>19</td>\n",
       "      <td>0</td>\n",
       "      <td>19</td>\n",
       "      <td>21</td>\n",
       "      <td>0</td>\n",
       "      <td>12</td>\n",
       "      <td>1</td>\n",
       "      <td>0</td>\n",
       "      <td>...</td>\n",
       "      <td>0</td>\n",
       "      <td>14</td>\n",
       "      <td>17</td>\n",
       "      <td>0</td>\n",
       "      <td>0</td>\n",
       "      <td>12</td>\n",
       "      <td>0</td>\n",
       "      <td>1</td>\n",
       "      <td>9</td>\n",
       "      <td>2</td>\n",
       "    </tr>\n",
       "    <tr>\n",
       "      <th>4</th>\n",
       "      <td>20</td>\n",
       "      <td>0</td>\n",
       "      <td>4</td>\n",
       "      <td>9</td>\n",
       "      <td>3</td>\n",
       "      <td>0</td>\n",
       "      <td>0</td>\n",
       "      <td>0</td>\n",
       "      <td>11</td>\n",
       "      <td>0</td>\n",
       "      <td>...</td>\n",
       "      <td>9</td>\n",
       "      <td>0</td>\n",
       "      <td>23</td>\n",
       "      <td>17</td>\n",
       "      <td>0</td>\n",
       "      <td>8</td>\n",
       "      <td>0</td>\n",
       "      <td>6</td>\n",
       "      <td>3</td>\n",
       "      <td>4</td>\n",
       "    </tr>\n",
       "  </tbody>\n",
       "</table>\n",
       "<p>5 rows × 22 columns</p>\n",
       "</div>"
      ],
      "text/plain": [
       "   European  Canadian  Japanese  6.19  5.49  4.79  Rich full bodied  Regular  \\\n",
       "0         0         8        12     0    16    23                 8        0   \n",
       "1         1         4         0     8     0    51                 8        0   \n",
       "2        19         0        15    16     0     3                31        0   \n",
       "3         0        17        19     0    19    21                 0       12   \n",
       "4        20         0         4     9     3     0                 0        0   \n",
       "\n",
       "   Crisp and clear  Strong   ...     Full  Regular.1  Low  Six 12Oz Large  \\\n",
       "0               10      10   ...        0         21   13               4   \n",
       "1                4       6   ...        2          6    0               0   \n",
       "2               20       0   ...        6          0    8               0   \n",
       "3                1       0   ...        0         14   17               0   \n",
       "4               11       0   ...        9          0   23              17   \n",
       "\n",
       "   Six 12Oz Small  Four 16Oz  Green Label  Brown Label  Brown Painted  cluster  \n",
       "0               0         11            9            0             13        2  \n",
       "1              12         10           13            5              0        2  \n",
       "2               4          8            1            5              0        3  \n",
       "3               0         12            0            1              9        2  \n",
       "4               0          8            0            6              3        4  \n",
       "\n",
       "[5 rows x 22 columns]"
      ]
     },
     "execution_count": 40,
     "metadata": {},
     "output_type": "execute_result"
    }
   ],
   "source": [
    "# Lets join the cluster labels to the original dataframe\n",
    "\n",
    "pref_data['cluster'] = labels\n",
    "pref_data_clustered = pref_data\n",
    "\n",
    "pref_data_clustered.head()"
   ]
  },
  {
   "cell_type": "code",
   "execution_count": 41,
   "metadata": {
    "collapsed": true
   },
   "outputs": [],
   "source": [
    "pref_data_clustered.to_csv('clustered_output.csv')"
   ]
  },
  {
   "cell_type": "markdown",
   "metadata": {},
   "source": [
    "## Classification usinn Decision Trees"
   ]
  },
  {
   "cell_type": "code",
   "execution_count": 42,
   "metadata": {
    "collapsed": false
   },
   "outputs": [
    {
     "data": {
      "text/html": [
       "<div>\n",
       "<table border=\"1\" class=\"dataframe\">\n",
       "  <thead>\n",
       "    <tr style=\"text-align: right;\">\n",
       "      <th></th>\n",
       "      <th>Weekly consumption</th>\n",
       "      <th>Age (1-7)</th>\n",
       "      <th>Income (1-7)</th>\n",
       "      <th>Education (1-6)</th>\n",
       "      <th>Sex (M=1)</th>\n",
       "      <th>Adapt to new situations</th>\n",
       "      <th>Make friends easily</th>\n",
       "      <th>Don't like to be tied to timetable</th>\n",
       "      <th>Like to take chances</th>\n",
       "      <th>Like to travel abroad</th>\n",
       "      <th>Like ethnic food</th>\n",
       "      <th>Knowledgeable about beer</th>\n",
       "    </tr>\n",
       "  </thead>\n",
       "  <tbody>\n",
       "    <tr>\n",
       "      <th>0</th>\n",
       "      <td>2</td>\n",
       "      <td>5</td>\n",
       "      <td>4</td>\n",
       "      <td>5</td>\n",
       "      <td>1</td>\n",
       "      <td>4</td>\n",
       "      <td>3</td>\n",
       "      <td>4</td>\n",
       "      <td>3</td>\n",
       "      <td>4</td>\n",
       "      <td>4</td>\n",
       "      <td>3</td>\n",
       "    </tr>\n",
       "    <tr>\n",
       "      <th>1</th>\n",
       "      <td>9</td>\n",
       "      <td>6</td>\n",
       "      <td>7</td>\n",
       "      <td>3</td>\n",
       "      <td>1</td>\n",
       "      <td>4</td>\n",
       "      <td>4</td>\n",
       "      <td>3</td>\n",
       "      <td>4</td>\n",
       "      <td>3</td>\n",
       "      <td>4</td>\n",
       "      <td>3</td>\n",
       "    </tr>\n",
       "    <tr>\n",
       "      <th>2</th>\n",
       "      <td>6</td>\n",
       "      <td>4</td>\n",
       "      <td>6</td>\n",
       "      <td>6</td>\n",
       "      <td>1</td>\n",
       "      <td>4</td>\n",
       "      <td>4</td>\n",
       "      <td>4</td>\n",
       "      <td>4</td>\n",
       "      <td>4</td>\n",
       "      <td>4</td>\n",
       "      <td>4</td>\n",
       "    </tr>\n",
       "    <tr>\n",
       "      <th>3</th>\n",
       "      <td>24</td>\n",
       "      <td>5</td>\n",
       "      <td>7</td>\n",
       "      <td>5</td>\n",
       "      <td>2</td>\n",
       "      <td>3</td>\n",
       "      <td>2</td>\n",
       "      <td>4</td>\n",
       "      <td>3</td>\n",
       "      <td>4</td>\n",
       "      <td>3</td>\n",
       "      <td>4</td>\n",
       "    </tr>\n",
       "    <tr>\n",
       "      <th>4</th>\n",
       "      <td>2</td>\n",
       "      <td>2</td>\n",
       "      <td>3</td>\n",
       "      <td>5</td>\n",
       "      <td>2</td>\n",
       "      <td>3</td>\n",
       "      <td>3</td>\n",
       "      <td>3</td>\n",
       "      <td>3</td>\n",
       "      <td>3</td>\n",
       "      <td>2</td>\n",
       "      <td>3</td>\n",
       "    </tr>\n",
       "  </tbody>\n",
       "</table>\n",
       "</div>"
      ],
      "text/plain": [
       "   Weekly consumption  Age (1-7)  Income (1-7)  Education (1-6)  Sex (M=1)  \\\n",
       "0                   2          5             4                5          1   \n",
       "1                   9          6             7                3          1   \n",
       "2                   6          4             6                6          1   \n",
       "3                  24          5             7                5          2   \n",
       "4                   2          2             3                5          2   \n",
       "\n",
       "   Adapt to new situations  Make friends easily  \\\n",
       "0                        4                    3   \n",
       "1                        4                    4   \n",
       "2                        4                    4   \n",
       "3                        3                    2   \n",
       "4                        3                    3   \n",
       "\n",
       "   Don't like to be tied to timetable  Like to take chances  \\\n",
       "0                                   4                     3   \n",
       "1                                   3                     4   \n",
       "2                                   4                     4   \n",
       "3                                   4                     3   \n",
       "4                                   3                     3   \n",
       "\n",
       "   Like to travel abroad  Like ethnic food  Knowledgeable about beer  \n",
       "0                      4                 4                         3  \n",
       "1                      3                 4                         3  \n",
       "2                      4                 4                         4  \n",
       "3                      4                 3                         4  \n",
       "4                      3                 2                         3  "
      ]
     },
     "execution_count": 42,
     "metadata": {},
     "output_type": "execute_result"
    }
   ],
   "source": [
    "customer_data = pd.read_csv('customer_data.csv')\n",
    "customer_data.head()"
   ]
  },
  {
   "cell_type": "code",
   "execution_count": 43,
   "metadata": {
    "collapsed": false
   },
   "outputs": [
    {
     "data": {
      "text/html": [
       "<div>\n",
       "<table border=\"1\" class=\"dataframe\">\n",
       "  <thead>\n",
       "    <tr style=\"text-align: right;\">\n",
       "      <th></th>\n",
       "      <th>Weekly consumption</th>\n",
       "      <th>Age (1-7)</th>\n",
       "      <th>Income (1-7)</th>\n",
       "      <th>Education (1-6)</th>\n",
       "      <th>Sex (M=1)</th>\n",
       "      <th>Adapt to new situations</th>\n",
       "      <th>Make friends easily</th>\n",
       "      <th>Don't like to be tied to timetable</th>\n",
       "      <th>Like to take chances</th>\n",
       "      <th>Like to travel abroad</th>\n",
       "      <th>Like ethnic food</th>\n",
       "      <th>Knowledgeable about beer</th>\n",
       "      <th>cluster number</th>\n",
       "    </tr>\n",
       "  </thead>\n",
       "  <tbody>\n",
       "    <tr>\n",
       "      <th>0</th>\n",
       "      <td>2</td>\n",
       "      <td>5</td>\n",
       "      <td>4</td>\n",
       "      <td>5</td>\n",
       "      <td>1</td>\n",
       "      <td>4</td>\n",
       "      <td>3</td>\n",
       "      <td>4</td>\n",
       "      <td>3</td>\n",
       "      <td>4</td>\n",
       "      <td>4</td>\n",
       "      <td>3</td>\n",
       "      <td>2</td>\n",
       "    </tr>\n",
       "    <tr>\n",
       "      <th>1</th>\n",
       "      <td>9</td>\n",
       "      <td>6</td>\n",
       "      <td>7</td>\n",
       "      <td>3</td>\n",
       "      <td>1</td>\n",
       "      <td>4</td>\n",
       "      <td>4</td>\n",
       "      <td>3</td>\n",
       "      <td>4</td>\n",
       "      <td>3</td>\n",
       "      <td>4</td>\n",
       "      <td>3</td>\n",
       "      <td>2</td>\n",
       "    </tr>\n",
       "    <tr>\n",
       "      <th>2</th>\n",
       "      <td>6</td>\n",
       "      <td>4</td>\n",
       "      <td>6</td>\n",
       "      <td>6</td>\n",
       "      <td>1</td>\n",
       "      <td>4</td>\n",
       "      <td>4</td>\n",
       "      <td>4</td>\n",
       "      <td>4</td>\n",
       "      <td>4</td>\n",
       "      <td>4</td>\n",
       "      <td>4</td>\n",
       "      <td>3</td>\n",
       "    </tr>\n",
       "    <tr>\n",
       "      <th>3</th>\n",
       "      <td>24</td>\n",
       "      <td>5</td>\n",
       "      <td>7</td>\n",
       "      <td>5</td>\n",
       "      <td>2</td>\n",
       "      <td>3</td>\n",
       "      <td>2</td>\n",
       "      <td>4</td>\n",
       "      <td>3</td>\n",
       "      <td>4</td>\n",
       "      <td>3</td>\n",
       "      <td>4</td>\n",
       "      <td>2</td>\n",
       "    </tr>\n",
       "    <tr>\n",
       "      <th>4</th>\n",
       "      <td>2</td>\n",
       "      <td>2</td>\n",
       "      <td>3</td>\n",
       "      <td>5</td>\n",
       "      <td>2</td>\n",
       "      <td>3</td>\n",
       "      <td>3</td>\n",
       "      <td>3</td>\n",
       "      <td>3</td>\n",
       "      <td>3</td>\n",
       "      <td>2</td>\n",
       "      <td>3</td>\n",
       "      <td>4</td>\n",
       "    </tr>\n",
       "  </tbody>\n",
       "</table>\n",
       "</div>"
      ],
      "text/plain": [
       "   Weekly consumption  Age (1-7)  Income (1-7)  Education (1-6)  Sex (M=1)  \\\n",
       "0                   2          5             4                5          1   \n",
       "1                   9          6             7                3          1   \n",
       "2                   6          4             6                6          1   \n",
       "3                  24          5             7                5          2   \n",
       "4                   2          2             3                5          2   \n",
       "\n",
       "   Adapt to new situations  Make friends easily  \\\n",
       "0                        4                    3   \n",
       "1                        4                    4   \n",
       "2                        4                    4   \n",
       "3                        3                    2   \n",
       "4                        3                    3   \n",
       "\n",
       "   Don't like to be tied to timetable  Like to take chances  \\\n",
       "0                                   4                     3   \n",
       "1                                   3                     4   \n",
       "2                                   4                     4   \n",
       "3                                   4                     3   \n",
       "4                                   3                     3   \n",
       "\n",
       "   Like to travel abroad  Like ethnic food  Knowledgeable about beer  \\\n",
       "0                      4                 4                         3   \n",
       "1                      3                 4                         3   \n",
       "2                      4                 4                         4   \n",
       "3                      4                 3                         4   \n",
       "4                      3                 2                         3   \n",
       "\n",
       "   cluster number  \n",
       "0               2  \n",
       "1               2  \n",
       "2               3  \n",
       "3               2  \n",
       "4               4  "
      ]
     },
     "execution_count": 43,
     "metadata": {},
     "output_type": "execute_result"
    }
   ],
   "source": [
    "#Adding cluster numbers calculated using clustering\n",
    "\n",
    "customer_data['cluster number'] = pref_data_clustered['cluster']\n",
    "customer_data.head()"
   ]
  },
  {
   "cell_type": "code",
   "execution_count": 44,
   "metadata": {
    "collapsed": true
   },
   "outputs": [],
   "source": [
    "customer_data.to_csv('colab_data.csv')"
   ]
  },
  {
   "cell_type": "code",
   "execution_count": 45,
   "metadata": {
    "collapsed": false
   },
   "outputs": [
    {
     "data": {
      "text/html": [
       "<div>\n",
       "<table border=\"1\" class=\"dataframe\">\n",
       "  <thead>\n",
       "    <tr style=\"text-align: right;\">\n",
       "      <th></th>\n",
       "      <th>Weekly consumption</th>\n",
       "      <th>Age (1-7)</th>\n",
       "      <th>Income (1-7)</th>\n",
       "      <th>Education (1-6)</th>\n",
       "      <th>Sex (M=1)</th>\n",
       "      <th>Adapt to new situations</th>\n",
       "      <th>Make friends easily</th>\n",
       "      <th>Don't like to be tied to timetable</th>\n",
       "      <th>Like to take chances</th>\n",
       "      <th>Like to travel abroad</th>\n",
       "      <th>Like ethnic food</th>\n",
       "      <th>Knowledgeable about beer</th>\n",
       "      <th>cluster number</th>\n",
       "      <th>Female_2</th>\n",
       "    </tr>\n",
       "  </thead>\n",
       "  <tbody>\n",
       "    <tr>\n",
       "      <th>0</th>\n",
       "      <td>2</td>\n",
       "      <td>5</td>\n",
       "      <td>4</td>\n",
       "      <td>5</td>\n",
       "      <td>1</td>\n",
       "      <td>4</td>\n",
       "      <td>3</td>\n",
       "      <td>4</td>\n",
       "      <td>3</td>\n",
       "      <td>4</td>\n",
       "      <td>4</td>\n",
       "      <td>3</td>\n",
       "      <td>2</td>\n",
       "      <td>0</td>\n",
       "    </tr>\n",
       "    <tr>\n",
       "      <th>1</th>\n",
       "      <td>9</td>\n",
       "      <td>6</td>\n",
       "      <td>7</td>\n",
       "      <td>3</td>\n",
       "      <td>1</td>\n",
       "      <td>4</td>\n",
       "      <td>4</td>\n",
       "      <td>3</td>\n",
       "      <td>4</td>\n",
       "      <td>3</td>\n",
       "      <td>4</td>\n",
       "      <td>3</td>\n",
       "      <td>2</td>\n",
       "      <td>0</td>\n",
       "    </tr>\n",
       "    <tr>\n",
       "      <th>2</th>\n",
       "      <td>6</td>\n",
       "      <td>4</td>\n",
       "      <td>6</td>\n",
       "      <td>6</td>\n",
       "      <td>1</td>\n",
       "      <td>4</td>\n",
       "      <td>4</td>\n",
       "      <td>4</td>\n",
       "      <td>4</td>\n",
       "      <td>4</td>\n",
       "      <td>4</td>\n",
       "      <td>4</td>\n",
       "      <td>3</td>\n",
       "      <td>0</td>\n",
       "    </tr>\n",
       "    <tr>\n",
       "      <th>3</th>\n",
       "      <td>24</td>\n",
       "      <td>5</td>\n",
       "      <td>7</td>\n",
       "      <td>5</td>\n",
       "      <td>2</td>\n",
       "      <td>3</td>\n",
       "      <td>2</td>\n",
       "      <td>4</td>\n",
       "      <td>3</td>\n",
       "      <td>4</td>\n",
       "      <td>3</td>\n",
       "      <td>4</td>\n",
       "      <td>2</td>\n",
       "      <td>1</td>\n",
       "    </tr>\n",
       "    <tr>\n",
       "      <th>4</th>\n",
       "      <td>2</td>\n",
       "      <td>2</td>\n",
       "      <td>3</td>\n",
       "      <td>5</td>\n",
       "      <td>2</td>\n",
       "      <td>3</td>\n",
       "      <td>3</td>\n",
       "      <td>3</td>\n",
       "      <td>3</td>\n",
       "      <td>3</td>\n",
       "      <td>2</td>\n",
       "      <td>3</td>\n",
       "      <td>4</td>\n",
       "      <td>1</td>\n",
       "    </tr>\n",
       "  </tbody>\n",
       "</table>\n",
       "</div>"
      ],
      "text/plain": [
       "   Weekly consumption  Age (1-7)  Income (1-7)  Education (1-6)  Sex (M=1)  \\\n",
       "0                   2          5             4                5          1   \n",
       "1                   9          6             7                3          1   \n",
       "2                   6          4             6                6          1   \n",
       "3                  24          5             7                5          2   \n",
       "4                   2          2             3                5          2   \n",
       "\n",
       "   Adapt to new situations  Make friends easily  \\\n",
       "0                        4                    3   \n",
       "1                        4                    4   \n",
       "2                        4                    4   \n",
       "3                        3                    2   \n",
       "4                        3                    3   \n",
       "\n",
       "   Don't like to be tied to timetable  Like to take chances  \\\n",
       "0                                   4                     3   \n",
       "1                                   3                     4   \n",
       "2                                   4                     4   \n",
       "3                                   4                     3   \n",
       "4                                   3                     3   \n",
       "\n",
       "   Like to travel abroad  Like ethnic food  Knowledgeable about beer  \\\n",
       "0                      4                 4                         3   \n",
       "1                      3                 4                         3   \n",
       "2                      4                 4                         4   \n",
       "3                      4                 3                         4   \n",
       "4                      3                 2                         3   \n",
       "\n",
       "   cluster number  Female_2  \n",
       "0               2         0  \n",
       "1               2         0  \n",
       "2               3         0  \n",
       "3               2         1  \n",
       "4               4         1  "
      ]
     },
     "execution_count": 45,
     "metadata": {},
     "output_type": "execute_result"
    }
   ],
   "source": [
    "df = pd.concat([customer_data,pd.get_dummies(customer_data['Sex (M=1)'], prefix='Female',drop_first = True)],axis=1)\n",
    "\n",
    "df.head()"
   ]
  },
  {
   "cell_type": "code",
   "execution_count": 46,
   "metadata": {
    "collapsed": true
   },
   "outputs": [],
   "source": [
    "# now drop the original 'Sex' column (you don't need it anymore)\n",
    "df.drop(['Sex (M=1)'],axis=1, inplace=True)"
   ]
  },
  {
   "cell_type": "code",
   "execution_count": 47,
   "metadata": {
    "collapsed": false
   },
   "outputs": [
    {
     "data": {
      "text/plain": [
       "['Weekly consumption',\n",
       " 'Age (1-7)',\n",
       " 'Income (1-7)',\n",
       " 'Education (1-6)',\n",
       " 'Adapt to new situations',\n",
       " 'Make friends easily',\n",
       " \"Don't like to be tied to timetable\",\n",
       " 'Like to take chances',\n",
       " 'Like to travel abroad',\n",
       " 'Like ethnic food',\n",
       " 'Knowledgeable about beer',\n",
       " 'cluster number',\n",
       " 'Female_2']"
      ]
     },
     "execution_count": 47,
     "metadata": {},
     "output_type": "execute_result"
    }
   ],
   "source": [
    "cols = df.columns.tolist()\n",
    "\n",
    "cols"
   ]
  },
  {
   "cell_type": "code",
   "execution_count": 48,
   "metadata": {
    "collapsed": true
   },
   "outputs": [],
   "source": [
    "cols_updated = ['Weekly consumption',\n",
    " 'Age (1-7)',\n",
    " 'Income (1-7)',\n",
    " 'Education (1-6)',\n",
    " 'Female_2',\n",
    " 'Adapt to new situations',\n",
    " 'Make friends easily',\n",
    " \"Don't like to be tied to timetable\",\n",
    " 'Like to take chances',\n",
    " 'Like to travel abroad',\n",
    " 'Like ethnic food',\n",
    " 'Knowledgeable about beer',\n",
    "  ]"
   ]
  },
  {
   "cell_type": "code",
   "execution_count": 49,
   "metadata": {
    "collapsed": false
   },
   "outputs": [],
   "source": [
    "df = df[cols_updated]"
   ]
  },
  {
   "cell_type": "code",
   "execution_count": 50,
   "metadata": {
    "collapsed": false
   },
   "outputs": [
    {
     "data": {
      "text/html": [
       "<div>\n",
       "<table border=\"1\" class=\"dataframe\">\n",
       "  <thead>\n",
       "    <tr style=\"text-align: right;\">\n",
       "      <th></th>\n",
       "      <th>Weekly consumption</th>\n",
       "      <th>Age (1-7)</th>\n",
       "      <th>Income (1-7)</th>\n",
       "      <th>Education (1-6)</th>\n",
       "      <th>Female_2</th>\n",
       "      <th>Adapt to new situations</th>\n",
       "      <th>Make friends easily</th>\n",
       "      <th>Don't like to be tied to timetable</th>\n",
       "      <th>Like to take chances</th>\n",
       "      <th>Like to travel abroad</th>\n",
       "      <th>Like ethnic food</th>\n",
       "      <th>Knowledgeable about beer</th>\n",
       "    </tr>\n",
       "  </thead>\n",
       "  <tbody>\n",
       "    <tr>\n",
       "      <th>0</th>\n",
       "      <td>2</td>\n",
       "      <td>5</td>\n",
       "      <td>4</td>\n",
       "      <td>5</td>\n",
       "      <td>0</td>\n",
       "      <td>4</td>\n",
       "      <td>3</td>\n",
       "      <td>4</td>\n",
       "      <td>3</td>\n",
       "      <td>4</td>\n",
       "      <td>4</td>\n",
       "      <td>3</td>\n",
       "    </tr>\n",
       "    <tr>\n",
       "      <th>1</th>\n",
       "      <td>9</td>\n",
       "      <td>6</td>\n",
       "      <td>7</td>\n",
       "      <td>3</td>\n",
       "      <td>0</td>\n",
       "      <td>4</td>\n",
       "      <td>4</td>\n",
       "      <td>3</td>\n",
       "      <td>4</td>\n",
       "      <td>3</td>\n",
       "      <td>4</td>\n",
       "      <td>3</td>\n",
       "    </tr>\n",
       "    <tr>\n",
       "      <th>2</th>\n",
       "      <td>6</td>\n",
       "      <td>4</td>\n",
       "      <td>6</td>\n",
       "      <td>6</td>\n",
       "      <td>0</td>\n",
       "      <td>4</td>\n",
       "      <td>4</td>\n",
       "      <td>4</td>\n",
       "      <td>4</td>\n",
       "      <td>4</td>\n",
       "      <td>4</td>\n",
       "      <td>4</td>\n",
       "    </tr>\n",
       "    <tr>\n",
       "      <th>3</th>\n",
       "      <td>24</td>\n",
       "      <td>5</td>\n",
       "      <td>7</td>\n",
       "      <td>5</td>\n",
       "      <td>1</td>\n",
       "      <td>3</td>\n",
       "      <td>2</td>\n",
       "      <td>4</td>\n",
       "      <td>3</td>\n",
       "      <td>4</td>\n",
       "      <td>3</td>\n",
       "      <td>4</td>\n",
       "    </tr>\n",
       "    <tr>\n",
       "      <th>4</th>\n",
       "      <td>2</td>\n",
       "      <td>2</td>\n",
       "      <td>3</td>\n",
       "      <td>5</td>\n",
       "      <td>1</td>\n",
       "      <td>3</td>\n",
       "      <td>3</td>\n",
       "      <td>3</td>\n",
       "      <td>3</td>\n",
       "      <td>3</td>\n",
       "      <td>2</td>\n",
       "      <td>3</td>\n",
       "    </tr>\n",
       "  </tbody>\n",
       "</table>\n",
       "</div>"
      ],
      "text/plain": [
       "   Weekly consumption  Age (1-7)  Income (1-7)  Education (1-6)  Female_2  \\\n",
       "0                   2          5             4                5         0   \n",
       "1                   9          6             7                3         0   \n",
       "2                   6          4             6                6         0   \n",
       "3                  24          5             7                5         1   \n",
       "4                   2          2             3                5         1   \n",
       "\n",
       "   Adapt to new situations  Make friends easily  \\\n",
       "0                        4                    3   \n",
       "1                        4                    4   \n",
       "2                        4                    4   \n",
       "3                        3                    2   \n",
       "4                        3                    3   \n",
       "\n",
       "   Don't like to be tied to timetable  Like to take chances  \\\n",
       "0                                   4                     3   \n",
       "1                                   3                     4   \n",
       "2                                   4                     4   \n",
       "3                                   4                     3   \n",
       "4                                   3                     3   \n",
       "\n",
       "   Like to travel abroad  Like ethnic food  Knowledgeable about beer  \n",
       "0                      4                 4                         3  \n",
       "1                      3                 4                         3  \n",
       "2                      4                 4                         4  \n",
       "3                      4                 3                         4  \n",
       "4                      3                 2                         3  "
      ]
     },
     "execution_count": 50,
     "metadata": {},
     "output_type": "execute_result"
    }
   ],
   "source": [
    "df_X = df[cols_updated]\n",
    "df_X.head()"
   ]
  },
  {
   "cell_type": "code",
   "execution_count": 51,
   "metadata": {
    "collapsed": false
   },
   "outputs": [
    {
     "data": {
      "text/plain": [
       "0    2\n",
       "1    2\n",
       "2    3\n",
       "3    2\n",
       "4    4\n",
       "Name: cluster number, dtype: int32"
      ]
     },
     "execution_count": 51,
     "metadata": {},
     "output_type": "execute_result"
    }
   ],
   "source": [
    "df_Y = customer_data.loc[:,'cluster number']\n",
    "df_Y.head()"
   ]
  },
  {
   "cell_type": "code",
   "execution_count": 52,
   "metadata": {
    "collapsed": false
   },
   "outputs": [
    {
     "data": {
      "text/plain": [
       "DecisionTreeClassifier(class_weight=None, criterion='gini', max_depth=6,\n",
       "            max_features=None, max_leaf_nodes=None,\n",
       "            min_impurity_split=1e-07, min_samples_leaf=5,\n",
       "            min_samples_split=2, min_weight_fraction_leaf=0.0,\n",
       "            presort=False, random_state=17, splitter='best')"
      ]
     },
     "execution_count": 52,
     "metadata": {},
     "output_type": "execute_result"
    }
   ],
   "source": [
    "from sklearn import tree\n",
    "from sklearn.metrics import classification_report, accuracy_score\n",
    "from sklearn.model_selection import train_test_split\n",
    "\n",
    " \n",
    "X_train, X_test, y_train, y_test = train_test_split(df_X, df_Y, test_size=0.05, random_state=17)\n",
    " \n",
    "clf = tree.DecisionTreeClassifier(criterion = \"gini\",max_depth=6, min_samples_leaf=5,random_state=17)\n",
    "clf.fit(X_train, y_train)\n",
    " \n",
    "    \n",
    "    \n",
    "\n"
   ]
  },
  {
   "cell_type": "code",
   "execution_count": 53,
   "metadata": {
    "collapsed": true
   },
   "outputs": [],
   "source": [
    "with open(\"decisionTree_classifier.txt\", \"w\") as f:\n",
    "    f = tree.export_graphviz(clf, out_file=f)"
   ]
  },
  {
   "cell_type": "code",
   "execution_count": 54,
   "metadata": {
    "collapsed": false
   },
   "outputs": [],
   "source": [
    "# y_pred = clf.predict(X_test)\n",
    "# print(classification_report(y_train, y_pred))\n",
    "# print('\\nAccuracy: {0:.4f}'.format(accuracy_score(y_test, y_pred)))"
   ]
  }
 ],
 "metadata": {
  "anaconda-cloud": {},
  "kernelspec": {
   "display_name": "Python [conda env:ml]",
   "language": "python",
   "name": "conda-env-ml-py"
  },
  "language_info": {
   "codemirror_mode": {
    "name": "ipython",
    "version": 3
   },
   "file_extension": ".py",
   "mimetype": "text/x-python",
   "name": "python",
   "nbconvert_exporter": "python",
   "pygments_lexer": "ipython3",
   "version": "3.5.2"
  }
 },
 "nbformat": 4,
 "nbformat_minor": 1
}
